{
 "cells": [
  {
   "cell_type": "markdown",
   "id": "f73f381a",
   "metadata": {
    "id": "v0WeWbFNkUSz",
    "papermill": {
     "duration": 0.012123,
     "end_time": "2024-11-13T21:43:34.713684",
     "exception": false,
     "start_time": "2024-11-13T21:43:34.701561",
     "status": "completed"
    },
    "tags": []
   },
   "source": [
    "##### Copyright 2024 Google LLC."
   ]
  },
  {
   "cell_type": "code",
   "execution_count": 1,
   "id": "a42990f9",
   "metadata": {
    "_kg_hide-input": true,
    "cellView": "form",
    "execution": {
     "iopub.execute_input": "2024-11-13T21:43:34.739785Z",
     "iopub.status.busy": "2024-11-13T21:43:34.739218Z",
     "iopub.status.idle": "2024-11-13T21:43:34.746110Z",
     "shell.execute_reply": "2024-11-13T21:43:34.744995Z"
    },
    "id": "Aqwsgz9lkUst",
    "jupyter": {
     "source_hidden": true
    },
    "papermill": {
     "duration": 0.023259,
     "end_time": "2024-11-13T21:43:34.748871",
     "exception": false,
     "start_time": "2024-11-13T21:43:34.725612",
     "status": "completed"
    },
    "tags": []
   },
   "outputs": [],
   "source": [
    "# @title Licensed under the Apache License, Version 2.0 (the \"License\");\n",
    "# you may not use this file except in compliance with the License.\n",
    "# You may obtain a copy of the License at\n",
    "#\n",
    "# https://www.apache.org/licenses/LICENSE-2.0\n",
    "#\n",
    "# Unless required by applicable law or agreed to in writing, software\n",
    "# distributed under the License is distributed on an \"AS IS\" BASIS,\n",
    "# WITHOUT WARRANTIES OR CONDITIONS OF ANY KIND, either express or implied.\n",
    "# See the License for the specific language governing permissions and\n",
    "# limitations under the License."
   ]
  },
  {
   "cell_type": "markdown",
   "id": "9a1b7de1",
   "metadata": {
    "id": "bhT1u-Pof10V",
    "papermill": {
     "duration": 0.011068,
     "end_time": "2024-11-13T21:43:34.771919",
     "exception": false,
     "start_time": "2024-11-13T21:43:34.760851",
     "status": "completed"
    },
    "tags": []
   },
   "source": [
    "# Day 2 - Classifying embeddings with Keras and the Gemini API\n",
    "\n",
    "## Overview\n",
    "\n",
    "Welcome back to the Kaggle 5-day Generative AI course. In this notebook, you'll learn to use the embeddings produced by the Gemini API to train a model that can classify newsgroup posts into the categories (the newsgroup itself) from the post contents.\n",
    "\n",
    "This technique uses the Gemini API's embeddings as input, avoiding the need to train on text input directly, and as a result it is able to perform quite well using relatively few examples compared to training a text model from scratch.\n",
    "\n",
    "## For help\n",
    "\n",
    "**Common issues are covered in the [FAQ and troubleshooting guide](https://www.kaggle.com/code/markishere/day-0-troubleshooting-and-faqs).**\n"
   ]
  },
  {
   "cell_type": "code",
   "execution_count": 2,
   "id": "8ced1902",
   "metadata": {
    "execution": {
     "iopub.execute_input": "2024-11-13T21:43:34.796623Z",
     "iopub.status.busy": "2024-11-13T21:43:34.796113Z",
     "iopub.status.idle": "2024-11-13T21:44:15.862580Z",
     "shell.execute_reply": "2024-11-13T21:44:15.860880Z"
    },
    "id": "FXq0ygI3BCdQ",
    "papermill": {
     "duration": 41.095459,
     "end_time": "2024-11-13T21:44:15.879007",
     "exception": false,
     "start_time": "2024-11-13T21:43:34.783548",
     "status": "completed"
    },
    "tags": []
   },
   "outputs": [
    {
     "name": "stdout",
     "output_type": "stream",
     "text": [
      "Note: you may need to restart the kernel to use updated packages.\n"
     ]
    }
   ],
   "source": [
    "%pip install -U -q \"google-generativeai>=0.8.3\""
   ]
  },
  {
   "cell_type": "markdown",
   "id": "5ccee859",
   "metadata": {
    "papermill": {
     "duration": 0.012174,
     "end_time": "2024-11-13T21:44:15.902944",
     "exception": false,
     "start_time": "2024-11-13T21:44:15.890770",
     "status": "completed"
    },
    "tags": []
   },
   "source": [
    "Note that you do not have to restart the kernel."
   ]
  },
  {
   "cell_type": "code",
   "execution_count": 3,
   "id": "119d27f7",
   "metadata": {
    "execution": {
     "iopub.execute_input": "2024-11-13T21:44:15.928707Z",
     "iopub.status.busy": "2024-11-13T21:44:15.928236Z",
     "iopub.status.idle": "2024-11-13T21:44:17.389877Z",
     "shell.execute_reply": "2024-11-13T21:44:17.388535Z"
    },
    "id": "XiJjB2vWCQJP",
    "papermill": {
     "duration": 1.478396,
     "end_time": "2024-11-13T21:44:17.392882",
     "exception": false,
     "start_time": "2024-11-13T21:44:15.914486",
     "status": "completed"
    },
    "tags": []
   },
   "outputs": [],
   "source": [
    "import google.generativeai as genai"
   ]
  },
  {
   "cell_type": "markdown",
   "id": "c3906b8c",
   "metadata": {
    "id": "_mwJYXpElYJc",
    "papermill": {
     "duration": 0.011444,
     "end_time": "2024-11-13T21:44:17.417497",
     "exception": false,
     "start_time": "2024-11-13T21:44:17.406053",
     "status": "completed"
    },
    "tags": []
   },
   "source": [
    "### Set up your API key\n",
    "\n",
    "To run the following cell, your API key must be stored it in a [Kaggle secret](https://www.kaggle.com/discussions/product-feedback/114053) named `GOOGLE_API_KEY`.\n",
    "\n",
    "If you don't already have an API key, you can grab one from [AI Studio](https://aistudio.google.com/app/apikey). You can find [detailed instructions in the docs](https://ai.google.dev/gemini-api/docs/api-key).\n",
    "\n",
    "To make the key available through Kaggle secrets, choose `Secrets` from the `Add-ons` menu and follow the instructions to add your key or enable it for this notebook."
   ]
  },
  {
   "cell_type": "code",
   "execution_count": 4,
   "id": "fbaf335d",
   "metadata": {
    "execution": {
     "iopub.execute_input": "2024-11-13T21:44:17.443941Z",
     "iopub.status.busy": "2024-11-13T21:44:17.442870Z",
     "iopub.status.idle": "2024-11-13T21:44:17.547017Z",
     "shell.execute_reply": "2024-11-13T21:44:17.545695Z"
    },
    "id": "tayrk_A2lZ7A",
    "papermill": {
     "duration": 0.120427,
     "end_time": "2024-11-13T21:44:17.550002",
     "exception": false,
     "start_time": "2024-11-13T21:44:17.429575",
     "status": "completed"
    },
    "tags": []
   },
   "outputs": [],
   "source": [
    "from kaggle_secrets import UserSecretsClient\n",
    "\n",
    "GOOGLE_API_KEY = UserSecretsClient().get_secret(\"GOOGLE_API_KEY\")\n",
    "genai.configure(api_key=GOOGLE_API_KEY)"
   ]
  },
  {
   "cell_type": "markdown",
   "id": "3c832beb",
   "metadata": {
    "id": "c79728739642",
    "papermill": {
     "duration": 0.011945,
     "end_time": "2024-11-13T21:44:17.573720",
     "exception": false,
     "start_time": "2024-11-13T21:44:17.561775",
     "status": "completed"
    },
    "tags": []
   },
   "source": [
    "If you received an error response along the lines of `No user secrets exist for kernel id ...`, then you need to add your API key via `Add-ons`, `Secrets` **and** enable it.\n",
    "\n",
    "![Screenshot of the checkbox to enable GOOGLE_API_KEY secret](https://storage.googleapis.com/kaggle-media/Images/5gdai_sc_3.png)"
   ]
  },
  {
   "cell_type": "markdown",
   "id": "650e66df",
   "metadata": {
    "id": "C5B9sWq0hNEV",
    "papermill": {
     "duration": 0.011249,
     "end_time": "2024-11-13T21:44:17.596762",
     "exception": false,
     "start_time": "2024-11-13T21:44:17.585513",
     "status": "completed"
    },
    "tags": []
   },
   "source": [
    "## Dataset\n",
    "\n",
    "The [20 Newsgroups Text Dataset](https://scikit-learn.org/0.19/datasets/twenty_newsgroups.html) contains 18,000 newsgroups posts on 20 topics divided into training and test sets. The split between the training and test datasets are based on messages posted before and after a specific date. For this tutorial, you will use sampled subsets of the training and test sets, and perform some processing using Pandas."
   ]
  },
  {
   "cell_type": "code",
   "execution_count": 5,
   "id": "194d22c0",
   "metadata": {
    "execution": {
     "iopub.execute_input": "2024-11-13T21:44:17.621888Z",
     "iopub.status.busy": "2024-11-13T21:44:17.621446Z",
     "iopub.status.idle": "2024-11-13T21:44:31.497069Z",
     "shell.execute_reply": "2024-11-13T21:44:31.495512Z"
    },
    "id": "jDoKis4om-Ea",
    "papermill": {
     "duration": 13.891871,
     "end_time": "2024-11-13T21:44:31.500283",
     "exception": false,
     "start_time": "2024-11-13T21:44:17.608412",
     "status": "completed"
    },
    "tags": []
   },
   "outputs": [
    {
     "data": {
      "text/plain": [
       "['alt.atheism',\n",
       " 'comp.graphics',\n",
       " 'comp.os.ms-windows.misc',\n",
       " 'comp.sys.ibm.pc.hardware',\n",
       " 'comp.sys.mac.hardware',\n",
       " 'comp.windows.x',\n",
       " 'misc.forsale',\n",
       " 'rec.autos',\n",
       " 'rec.motorcycles',\n",
       " 'rec.sport.baseball',\n",
       " 'rec.sport.hockey',\n",
       " 'sci.crypt',\n",
       " 'sci.electronics',\n",
       " 'sci.med',\n",
       " 'sci.space',\n",
       " 'soc.religion.christian',\n",
       " 'talk.politics.guns',\n",
       " 'talk.politics.mideast',\n",
       " 'talk.politics.misc',\n",
       " 'talk.religion.misc']"
      ]
     },
     "execution_count": 5,
     "metadata": {},
     "output_type": "execute_result"
    }
   ],
   "source": [
    "from sklearn.datasets import fetch_20newsgroups\n",
    "\n",
    "newsgroups_train = fetch_20newsgroups(subset=\"train\")\n",
    "newsgroups_test = fetch_20newsgroups(subset=\"test\")\n",
    "\n",
    "# View list of class names for dataset\n",
    "newsgroups_train.target_names"
   ]
  },
  {
   "cell_type": "markdown",
   "id": "e9e98bc0",
   "metadata": {
    "id": "hDz9MjkNl_FD",
    "papermill": {
     "duration": 0.011824,
     "end_time": "2024-11-13T21:44:31.524256",
     "exception": false,
     "start_time": "2024-11-13T21:44:31.512432",
     "status": "completed"
    },
    "tags": []
   },
   "source": [
    "Here is an example of what a record from the training set looks like."
   ]
  },
  {
   "cell_type": "code",
   "execution_count": 6,
   "id": "280c6458",
   "metadata": {
    "execution": {
     "iopub.execute_input": "2024-11-13T21:44:31.551496Z",
     "iopub.status.busy": "2024-11-13T21:44:31.550923Z",
     "iopub.status.idle": "2024-11-13T21:44:31.558205Z",
     "shell.execute_reply": "2024-11-13T21:44:31.556622Z"
    },
    "id": "FPq-56AimOPX",
    "papermill": {
     "duration": 0.024231,
     "end_time": "2024-11-13T21:44:31.561079",
     "exception": false,
     "start_time": "2024-11-13T21:44:31.536848",
     "status": "completed"
    },
    "tags": []
   },
   "outputs": [
    {
     "name": "stdout",
     "output_type": "stream",
     "text": [
      "From: lerxst@wam.umd.edu (where's my thing)\n",
      "Subject: WHAT car is this!?\n",
      "Nntp-Posting-Host: rac3.wam.umd.edu\n",
      "Organization: University of Maryland, College Park\n",
      "Lines: 15\n",
      "\n",
      " I was wondering if anyone out there could enlighten me on this car I saw\n",
      "the other day. It was a 2-door sports car, looked to be from the late 60s/\n",
      "early 70s. It was called a Bricklin. The doors were really small. In addition,\n",
      "the front bumper was separate from the rest of the body. This is \n",
      "all I know. If anyone can tellme a model name, engine specs, years\n",
      "of production, where this car is made, history, or whatever info you\n",
      "have on this funky looking car, please e-mail.\n",
      "\n",
      "Thanks,\n",
      "- IL\n",
      "   ---- brought to you by your neighborhood Lerxst ----\n",
      "\n",
      "\n",
      "\n",
      "\n",
      "\n"
     ]
    }
   ],
   "source": [
    "print(newsgroups_train.data[0])"
   ]
  },
  {
   "cell_type": "markdown",
   "id": "aac7c093",
   "metadata": {
    "id": "A9-DD7wgCx8j",
    "papermill": {
     "duration": 0.011449,
     "end_time": "2024-11-13T21:44:31.584899",
     "exception": false,
     "start_time": "2024-11-13T21:44:31.573450",
     "status": "completed"
    },
    "tags": []
   },
   "source": [
    "Start by preprocessing the data for this tutorial in a Pandas dataframe. To remove any sensitive information like names and email addresses, you will take only the subject and body of each message. This is an optional step that transforms the input data into more generic text, rather than email posts, so that it will work in other contexts."
   ]
  },
  {
   "cell_type": "code",
   "execution_count": 7,
   "id": "55c0fe4d",
   "metadata": {
    "execution": {
     "iopub.execute_input": "2024-11-13T21:44:31.610411Z",
     "iopub.status.busy": "2024-11-13T21:44:31.609902Z",
     "iopub.status.idle": "2024-11-13T21:44:32.791742Z",
     "shell.execute_reply": "2024-11-13T21:44:32.790089Z"
    },
    "id": "urpLwp3UmPF3",
    "papermill": {
     "duration": 1.197987,
     "end_time": "2024-11-13T21:44:32.794750",
     "exception": false,
     "start_time": "2024-11-13T21:44:31.596763",
     "status": "completed"
    },
    "tags": []
   },
   "outputs": [],
   "source": [
    "import email\n",
    "import re\n",
    "\n",
    "import pandas as pd\n",
    "\n",
    "\n",
    "def preprocess_newsgroup_row(data):\n",
    "    # Extract only the subject and body\n",
    "    msg = email.message_from_string(data)\n",
    "    text = f\"{msg['Subject']}\\n\\n{msg.get_payload()}\"\n",
    "    # Strip any remaining email addresses\n",
    "    text = re.sub(r\"[\\w\\.-]+@[\\w\\.-]+\", \"\", text)\n",
    "    # Truncate each entry to 5,000 characters\n",
    "    text = text[:5000]\n",
    "\n",
    "    return text\n",
    "\n",
    "\n",
    "def preprocess_newsgroup_data(newsgroup_dataset):\n",
    "    # Put data points into dataframe\n",
    "    df = pd.DataFrame(\n",
    "        {\"Text\": newsgroup_dataset.data, \"Label\": newsgroup_dataset.target}\n",
    "    )\n",
    "    # Clean up the text\n",
    "    df[\"Text\"] = df[\"Text\"].apply(preprocess_newsgroup_row)\n",
    "    # Match label to target name index\n",
    "    df[\"Class Name\"] = df[\"Label\"].map(lambda l: newsgroup_dataset.target_names[l])\n",
    "\n",
    "    return df"
   ]
  },
  {
   "cell_type": "code",
   "execution_count": 8,
   "id": "6bc2b1a6",
   "metadata": {
    "execution": {
     "iopub.execute_input": "2024-11-13T21:44:32.820872Z",
     "iopub.status.busy": "2024-11-13T21:44:32.820200Z",
     "iopub.status.idle": "2024-11-13T21:44:39.560415Z",
     "shell.execute_reply": "2024-11-13T21:44:39.559099Z"
    },
    "id": "JMKddQdNnAOV",
    "papermill": {
     "duration": 6.756375,
     "end_time": "2024-11-13T21:44:39.563162",
     "exception": false,
     "start_time": "2024-11-13T21:44:32.806787",
     "status": "completed"
    },
    "tags": []
   },
   "outputs": [
    {
     "data": {
      "text/html": [
       "<div>\n",
       "<style scoped>\n",
       "    .dataframe tbody tr th:only-of-type {\n",
       "        vertical-align: middle;\n",
       "    }\n",
       "\n",
       "    .dataframe tbody tr th {\n",
       "        vertical-align: top;\n",
       "    }\n",
       "\n",
       "    .dataframe thead th {\n",
       "        text-align: right;\n",
       "    }\n",
       "</style>\n",
       "<table border=\"1\" class=\"dataframe\">\n",
       "  <thead>\n",
       "    <tr style=\"text-align: right;\">\n",
       "      <th></th>\n",
       "      <th>Text</th>\n",
       "      <th>Label</th>\n",
       "      <th>Class Name</th>\n",
       "    </tr>\n",
       "  </thead>\n",
       "  <tbody>\n",
       "    <tr>\n",
       "      <th>0</th>\n",
       "      <td>WHAT car is this!?\\n\\n I was wondering if anyo...</td>\n",
       "      <td>7</td>\n",
       "      <td>rec.autos</td>\n",
       "    </tr>\n",
       "    <tr>\n",
       "      <th>1</th>\n",
       "      <td>SI Clock Poll - Final Call\\n\\nA fair number of...</td>\n",
       "      <td>4</td>\n",
       "      <td>comp.sys.mac.hardware</td>\n",
       "    </tr>\n",
       "    <tr>\n",
       "      <th>2</th>\n",
       "      <td>PB questions...\\n\\nwell folks, my mac plus fin...</td>\n",
       "      <td>4</td>\n",
       "      <td>comp.sys.mac.hardware</td>\n",
       "    </tr>\n",
       "    <tr>\n",
       "      <th>3</th>\n",
       "      <td>Re: Weitek P9000 ?\\n\\nRobert J.C. Kyanko () wr...</td>\n",
       "      <td>1</td>\n",
       "      <td>comp.graphics</td>\n",
       "    </tr>\n",
       "    <tr>\n",
       "      <th>4</th>\n",
       "      <td>Re: Shuttle Launch Question\\n\\nFrom article &lt;&gt;...</td>\n",
       "      <td>14</td>\n",
       "      <td>sci.space</td>\n",
       "    </tr>\n",
       "  </tbody>\n",
       "</table>\n",
       "</div>"
      ],
      "text/plain": [
       "                                                Text  Label  \\\n",
       "0  WHAT car is this!?\\n\\n I was wondering if anyo...      7   \n",
       "1  SI Clock Poll - Final Call\\n\\nA fair number of...      4   \n",
       "2  PB questions...\\n\\nwell folks, my mac plus fin...      4   \n",
       "3  Re: Weitek P9000 ?\\n\\nRobert J.C. Kyanko () wr...      1   \n",
       "4  Re: Shuttle Launch Question\\n\\nFrom article <>...     14   \n",
       "\n",
       "              Class Name  \n",
       "0              rec.autos  \n",
       "1  comp.sys.mac.hardware  \n",
       "2  comp.sys.mac.hardware  \n",
       "3          comp.graphics  \n",
       "4              sci.space  "
      ]
     },
     "execution_count": 8,
     "metadata": {},
     "output_type": "execute_result"
    }
   ],
   "source": [
    "# Apply preprocessing function to training and test datasets\n",
    "df_train = preprocess_newsgroup_data(newsgroups_train)\n",
    "df_test = preprocess_newsgroup_data(newsgroups_test)\n",
    "\n",
    "df_train.head()"
   ]
  },
  {
   "cell_type": "markdown",
   "id": "11e5c4bb",
   "metadata": {
    "id": "ogEGbg5XDv-T",
    "papermill": {
     "duration": 0.011939,
     "end_time": "2024-11-13T21:44:39.587327",
     "exception": false,
     "start_time": "2024-11-13T21:44:39.575388",
     "status": "completed"
    },
    "tags": []
   },
   "source": [
    "Next, you will sample some of the data by taking 100 data points in the training dataset, and dropping a few of the categories to run through this tutorial. Choose the science categories to compare."
   ]
  },
  {
   "cell_type": "code",
   "execution_count": 9,
   "id": "da9001b4",
   "metadata": {
    "execution": {
     "iopub.execute_input": "2024-11-13T21:44:39.613757Z",
     "iopub.status.busy": "2024-11-13T21:44:39.613295Z",
     "iopub.status.idle": "2024-11-13T21:44:39.621401Z",
     "shell.execute_reply": "2024-11-13T21:44:39.620056Z"
    },
    "id": "C2N7xXhJohLR",
    "papermill": {
     "duration": 0.02476,
     "end_time": "2024-11-13T21:44:39.624430",
     "exception": false,
     "start_time": "2024-11-13T21:44:39.599670",
     "status": "completed"
    },
    "tags": []
   },
   "outputs": [],
   "source": [
    "def sample_data(df, num_samples, classes_to_keep):\n",
    "    # Sample rows, selecting num_samples of each Label.\n",
    "    df = (\n",
    "        df.groupby(\"Label\")[df.columns]\n",
    "        .apply(lambda x: x.sample(num_samples))\n",
    "        .reset_index(drop=True)\n",
    "    )\n",
    "\n",
    "    df = df[df[\"Class Name\"].str.contains(classes_to_keep)]\n",
    "\n",
    "    # We have fewer categories now, so re-calibrate the label encoding.\n",
    "    df[\"Class Name\"] = df[\"Class Name\"].astype(\"category\")\n",
    "    df[\"Encoded Label\"] = df[\"Class Name\"].cat.codes\n",
    "\n",
    "    return df"
   ]
  },
  {
   "cell_type": "code",
   "execution_count": 10,
   "id": "93d47c33",
   "metadata": {
    "execution": {
     "iopub.execute_input": "2024-11-13T21:44:39.651565Z",
     "iopub.status.busy": "2024-11-13T21:44:39.651087Z",
     "iopub.status.idle": "2024-11-13T21:44:39.713925Z",
     "shell.execute_reply": "2024-11-13T21:44:39.712710Z"
    },
    "id": "jS2g_ZGupBUb",
    "papermill": {
     "duration": 0.079896,
     "end_time": "2024-11-13T21:44:39.716887",
     "exception": false,
     "start_time": "2024-11-13T21:44:39.636991",
     "status": "completed"
    },
    "tags": []
   },
   "outputs": [],
   "source": [
    "TRAIN_NUM_SAMPLES = 100\n",
    "TEST_NUM_SAMPLES = 25\n",
    "CLASSES_TO_KEEP = \"sci\"  # Class name should contain 'sci' to keep science categories\n",
    "\n",
    "df_train = sample_data(df_train, TRAIN_NUM_SAMPLES, CLASSES_TO_KEEP)\n",
    "df_test = sample_data(df_test, TEST_NUM_SAMPLES, CLASSES_TO_KEEP)"
   ]
  },
  {
   "cell_type": "code",
   "execution_count": 11,
   "id": "c58742d6",
   "metadata": {
    "execution": {
     "iopub.execute_input": "2024-11-13T21:44:39.743306Z",
     "iopub.status.busy": "2024-11-13T21:44:39.742787Z",
     "iopub.status.idle": "2024-11-13T21:44:39.759731Z",
     "shell.execute_reply": "2024-11-13T21:44:39.758233Z"
    },
    "id": "j04TMPY8rV5q",
    "papermill": {
     "duration": 0.033849,
     "end_time": "2024-11-13T21:44:39.762837",
     "exception": false,
     "start_time": "2024-11-13T21:44:39.728988",
     "status": "completed"
    },
    "tags": []
   },
   "outputs": [
    {
     "data": {
      "text/plain": [
       "Class Name\n",
       "sci.crypt          100\n",
       "sci.electronics    100\n",
       "sci.med            100\n",
       "sci.space          100\n",
       "Name: count, dtype: int64"
      ]
     },
     "execution_count": 11,
     "metadata": {},
     "output_type": "execute_result"
    }
   ],
   "source": [
    "df_train.value_counts(\"Class Name\")"
   ]
  },
  {
   "cell_type": "code",
   "execution_count": 12,
   "id": "b9502daa",
   "metadata": {
    "execution": {
     "iopub.execute_input": "2024-11-13T21:44:39.791402Z",
     "iopub.status.busy": "2024-11-13T21:44:39.790275Z",
     "iopub.status.idle": "2024-11-13T21:44:39.802296Z",
     "shell.execute_reply": "2024-11-13T21:44:39.800914Z"
    },
    "id": "qMsnfkVDsJlU",
    "papermill": {
     "duration": 0.029183,
     "end_time": "2024-11-13T21:44:39.804972",
     "exception": false,
     "start_time": "2024-11-13T21:44:39.775789",
     "status": "completed"
    },
    "tags": []
   },
   "outputs": [
    {
     "data": {
      "text/plain": [
       "Class Name\n",
       "sci.crypt          25\n",
       "sci.electronics    25\n",
       "sci.med            25\n",
       "sci.space          25\n",
       "Name: count, dtype: int64"
      ]
     },
     "execution_count": 12,
     "metadata": {},
     "output_type": "execute_result"
    }
   ],
   "source": [
    "df_test.value_counts(\"Class Name\")"
   ]
  },
  {
   "cell_type": "markdown",
   "id": "9f8b94c2",
   "metadata": {
    "id": "Kr-WlKzXjYWn",
    "papermill": {
     "duration": 0.012179,
     "end_time": "2024-11-13T21:44:39.829857",
     "exception": false,
     "start_time": "2024-11-13T21:44:39.817678",
     "status": "completed"
    },
    "tags": []
   },
   "source": [
    "## Create the embeddings\n",
    "\n",
    "In this section, you will generate embeddings for each piece of text using the Gemini API embeddings endpoint. To learn more about embeddings, visit the [embeddings guide](https://ai.google.dev/docs/embeddings_guide).\n",
    "\n",
    "**NOTE**: Embeddings are computed one at a time, so large sample sizes can take a long time!"
   ]
  },
  {
   "cell_type": "markdown",
   "id": "ae85569b",
   "metadata": {
    "id": "yPECMeE2xYA_",
    "papermill": {
     "duration": 0.012732,
     "end_time": "2024-11-13T21:44:39.855406",
     "exception": false,
     "start_time": "2024-11-13T21:44:39.842674",
     "status": "completed"
    },
    "tags": []
   },
   "source": [
    "### Task types\n",
    "\n",
    "The `text-embedding-004` model supports a task type parameter that generates embeddings tailored for the specific task.\n",
    "\n",
    "Task Type | Description\n",
    "---       | ---\n",
    "RETRIEVAL_QUERY\t| Specifies the given text is a query in a search/retrieval setting.\n",
    "RETRIEVAL_DOCUMENT | Specifies the given text is a document in a search/retrieval setting.\n",
    "SEMANTIC_SIMILARITY\t| Specifies the given text will be used for Semantic Textual Similarity (STS).\n",
    "CLASSIFICATION\t| Specifies that the embeddings will be used for classification.\n",
    "CLUSTERING\t| Specifies that the embeddings will be used for clustering.\n",
    "FACT_VERIFICATION | Specifies that the given text will be used for fact verification.\n",
    "\n",
    "For this example you will be performing classification."
   ]
  },
  {
   "cell_type": "code",
   "execution_count": 13,
   "id": "02f82420",
   "metadata": {
    "execution": {
     "iopub.execute_input": "2024-11-13T21:44:39.883054Z",
     "iopub.status.busy": "2024-11-13T21:44:39.882565Z",
     "iopub.status.idle": "2024-11-13T21:44:39.986614Z",
     "shell.execute_reply": "2024-11-13T21:44:39.985578Z"
    },
    "id": "MTBGKkPQsotz",
    "papermill": {
     "duration": 0.121591,
     "end_time": "2024-11-13T21:44:39.989751",
     "exception": false,
     "start_time": "2024-11-13T21:44:39.868160",
     "status": "completed"
    },
    "tags": []
   },
   "outputs": [],
   "source": [
    "from google.api_core import retry\n",
    "from tqdm.rich import tqdm\n",
    "\n",
    "\n",
    "tqdm.pandas()\n",
    "\n",
    "@retry.Retry(timeout=300.0)\n",
    "def embed_fn(text: str) -> list[float]:\n",
    "    # You will be performing classification, so set task_type accordingly.\n",
    "    response = genai.embed_content(\n",
    "        model=\"models/text-embedding-004\", content=text, task_type=\"classification\"\n",
    "    )\n",
    "\n",
    "    return response[\"embedding\"]\n",
    "\n",
    "\n",
    "def create_embeddings(df):\n",
    "    df[\"Embeddings\"] = df[\"Text\"].progress_apply(embed_fn)\n",
    "    return df"
   ]
  },
  {
   "cell_type": "markdown",
   "id": "81e382a4",
   "metadata": {
    "id": "HVDwY8F2kW2O",
    "papermill": {
     "duration": 0.012818,
     "end_time": "2024-11-13T21:44:40.015228",
     "exception": false,
     "start_time": "2024-11-13T21:44:40.002410",
     "status": "completed"
    },
    "tags": []
   },
   "source": [
    "This code is optimised for clarity, and is not particularly fast. It is left as an exercise for the reader to implement [batch](https://ai.google.dev/api/embeddings#method:-models.batchembedcontents) or parallel/asynchronous embedding generation. Running this step will take some time."
   ]
  },
  {
   "cell_type": "code",
   "execution_count": 14,
   "id": "e0cba9b5",
   "metadata": {
    "execution": {
     "iopub.execute_input": "2024-11-13T21:44:40.043656Z",
     "iopub.status.busy": "2024-11-13T21:44:40.043214Z",
     "iopub.status.idle": "2024-11-13T21:46:12.797749Z",
     "shell.execute_reply": "2024-11-13T21:46:12.796476Z"
    },
    "id": "AH0yrHUHtHtw",
    "papermill": {
     "duration": 92.772149,
     "end_time": "2024-11-13T21:46:12.800938",
     "exception": false,
     "start_time": "2024-11-13T21:44:40.028789",
     "status": "completed"
    },
    "tags": []
   },
   "outputs": [
    {
     "data": {
      "application/vnd.jupyter.widget-view+json": {
       "model_id": "74431fd017e6427d8d4f99e55f615243",
       "version_major": 2,
       "version_minor": 0
      },
      "text/plain": [
       "Output()"
      ]
     },
     "metadata": {},
     "output_type": "display_data"
    },
    {
     "name": "stderr",
     "output_type": "stream",
     "text": [
      "/opt/conda/lib/python3.10/site-packages/tqdm/std.py:885: TqdmExperimentalWarning: rich is experimental/alpha\n",
      "  t = cls(total=total, **tqdm_kwargs)\n"
     ]
    },
    {
     "data": {
      "text/html": [
       "<pre style=\"white-space:pre;overflow-x:auto;line-height:normal;font-family:Menlo,'DejaVu Sans Mono',consolas,'Courier New',monospace\"></pre>\n"
      ],
      "text/plain": []
     },
     "metadata": {},
     "output_type": "display_data"
    },
    {
     "data": {
      "text/html": [
       "<pre style=\"white-space:pre;overflow-x:auto;line-height:normal;font-family:Menlo,'DejaVu Sans Mono',consolas,'Courier New',monospace\">\n",
       "</pre>\n"
      ],
      "text/plain": [
       "\n"
      ]
     },
     "metadata": {},
     "output_type": "display_data"
    },
    {
     "data": {
      "application/vnd.jupyter.widget-view+json": {
       "model_id": "4bc604dd505e417da9aedb0686eb1e13",
       "version_major": 2,
       "version_minor": 0
      },
      "text/plain": [
       "Output()"
      ]
     },
     "metadata": {},
     "output_type": "display_data"
    },
    {
     "name": "stderr",
     "output_type": "stream",
     "text": [
      "/opt/conda/lib/python3.10/site-packages/tqdm/std.py:885: TqdmExperimentalWarning: rich is experimental/alpha\n",
      "  t = cls(total=total, **tqdm_kwargs)\n"
     ]
    },
    {
     "data": {
      "text/html": [
       "<pre style=\"white-space:pre;overflow-x:auto;line-height:normal;font-family:Menlo,'DejaVu Sans Mono',consolas,'Courier New',monospace\"></pre>\n"
      ],
      "text/plain": []
     },
     "metadata": {},
     "output_type": "display_data"
    },
    {
     "data": {
      "text/html": [
       "<pre style=\"white-space:pre;overflow-x:auto;line-height:normal;font-family:Menlo,'DejaVu Sans Mono',consolas,'Courier New',monospace\">\n",
       "</pre>\n"
      ],
      "text/plain": [
       "\n"
      ]
     },
     "metadata": {},
     "output_type": "display_data"
    }
   ],
   "source": [
    "df_train = create_embeddings(df_train)\n",
    "df_test = create_embeddings(df_test)"
   ]
  },
  {
   "cell_type": "code",
   "execution_count": 15,
   "id": "0d3d71a7",
   "metadata": {
    "execution": {
     "iopub.execute_input": "2024-11-13T21:46:16.244706Z",
     "iopub.status.busy": "2024-11-13T21:46:16.244350Z",
     "iopub.status.idle": "2024-11-13T21:46:16.268423Z",
     "shell.execute_reply": "2024-11-13T21:46:16.267090Z"
    },
    "id": "6G5TvLlmRjHc",
    "papermill": {
     "duration": 3.450875,
     "end_time": "2024-11-13T21:46:16.271301",
     "exception": false,
     "start_time": "2024-11-13T21:46:12.820426",
     "status": "completed"
    },
    "tags": []
   },
   "outputs": [
    {
     "data": {
      "text/html": [
       "<div>\n",
       "<style scoped>\n",
       "    .dataframe tbody tr th:only-of-type {\n",
       "        vertical-align: middle;\n",
       "    }\n",
       "\n",
       "    .dataframe tbody tr th {\n",
       "        vertical-align: top;\n",
       "    }\n",
       "\n",
       "    .dataframe thead th {\n",
       "        text-align: right;\n",
       "    }\n",
       "</style>\n",
       "<table border=\"1\" class=\"dataframe\">\n",
       "  <thead>\n",
       "    <tr style=\"text-align: right;\">\n",
       "      <th></th>\n",
       "      <th>Text</th>\n",
       "      <th>Label</th>\n",
       "      <th>Class Name</th>\n",
       "      <th>Encoded Label</th>\n",
       "      <th>Embeddings</th>\n",
       "    </tr>\n",
       "  </thead>\n",
       "  <tbody>\n",
       "    <tr>\n",
       "      <th>1100</th>\n",
       "      <td>Re: WH proposal from Police point of view\\n\\n\\...</td>\n",
       "      <td>11</td>\n",
       "      <td>sci.crypt</td>\n",
       "      <td>0</td>\n",
       "      <td>[-0.005036062, 0.023778075, -0.046490513, 0.03...</td>\n",
       "    </tr>\n",
       "    <tr>\n",
       "      <th>1101</th>\n",
       "      <td>Re: text of White House announcement and Q&amp;As ...</td>\n",
       "      <td>11</td>\n",
       "      <td>sci.crypt</td>\n",
       "      <td>0</td>\n",
       "      <td>[-0.007659351, 0.014534046, -0.04894295, 0.005...</td>\n",
       "    </tr>\n",
       "    <tr>\n",
       "      <th>1102</th>\n",
       "      <td>Re: Once tapped, your code is no good any more...</td>\n",
       "      <td>11</td>\n",
       "      <td>sci.crypt</td>\n",
       "      <td>0</td>\n",
       "      <td>[0.0045050536, 0.020362409, -0.061563283, 0.00...</td>\n",
       "    </tr>\n",
       "    <tr>\n",
       "      <th>1103</th>\n",
       "      <td>Re: Source of random bits on a Unix workstatio...</td>\n",
       "      <td>11</td>\n",
       "      <td>sci.crypt</td>\n",
       "      <td>0</td>\n",
       "      <td>[-0.020901736, 0.029019443, -0.05608165, 0.019...</td>\n",
       "    </tr>\n",
       "    <tr>\n",
       "      <th>1104</th>\n",
       "      <td>Re: Once tapped, your code is no good any more...</td>\n",
       "      <td>11</td>\n",
       "      <td>sci.crypt</td>\n",
       "      <td>0</td>\n",
       "      <td>[0.0012130996, 0.018634576, -0.046103235, 0.01...</td>\n",
       "    </tr>\n",
       "  </tbody>\n",
       "</table>\n",
       "</div>"
      ],
      "text/plain": [
       "                                                   Text  Label Class Name  \\\n",
       "1100  Re: WH proposal from Police point of view\\n\\n\\...     11  sci.crypt   \n",
       "1101  Re: text of White House announcement and Q&As ...     11  sci.crypt   \n",
       "1102  Re: Once tapped, your code is no good any more...     11  sci.crypt   \n",
       "1103  Re: Source of random bits on a Unix workstatio...     11  sci.crypt   \n",
       "1104  Re: Once tapped, your code is no good any more...     11  sci.crypt   \n",
       "\n",
       "      Encoded Label                                         Embeddings  \n",
       "1100              0  [-0.005036062, 0.023778075, -0.046490513, 0.03...  \n",
       "1101              0  [-0.007659351, 0.014534046, -0.04894295, 0.005...  \n",
       "1102              0  [0.0045050536, 0.020362409, -0.061563283, 0.00...  \n",
       "1103              0  [-0.020901736, 0.029019443, -0.05608165, 0.019...  \n",
       "1104              0  [0.0012130996, 0.018634576, -0.046103235, 0.01...  "
      ]
     },
     "execution_count": 15,
     "metadata": {},
     "output_type": "execute_result"
    }
   ],
   "source": [
    "df_train.head()"
   ]
  },
  {
   "cell_type": "markdown",
   "id": "eb3be275",
   "metadata": {
    "id": "QPYEYkIsWt_5",
    "papermill": {
     "duration": 0.014238,
     "end_time": "2024-11-13T21:46:16.299858",
     "exception": false,
     "start_time": "2024-11-13T21:46:16.285620",
     "status": "completed"
    },
    "tags": []
   },
   "source": [
    "## Build a classification model\n",
    "\n",
    "Here you will define a simple model that accepts the raw embedding data as input, has one hidden layer, and an output layer specifying the class probabilities. The prediction will correspond to the probability of a piece of text being a particular class of news.\n",
    "\n",
    "When you run the model, Keras will take care of details like shuffling the data points, calculating metrics and other ML boilerplate."
   ]
  },
  {
   "cell_type": "code",
   "execution_count": 16,
   "id": "9d296e2e",
   "metadata": {
    "execution": {
     "iopub.execute_input": "2024-11-13T21:46:16.329845Z",
     "iopub.status.busy": "2024-11-13T21:46:16.329391Z",
     "iopub.status.idle": "2024-11-13T21:46:32.593608Z",
     "shell.execute_reply": "2024-11-13T21:46:32.592406Z"
    },
    "id": "3oLGi4w5JsQR",
    "papermill": {
     "duration": 16.282519,
     "end_time": "2024-11-13T21:46:32.596295",
     "exception": false,
     "start_time": "2024-11-13T21:46:16.313776",
     "status": "completed"
    },
    "tags": []
   },
   "outputs": [],
   "source": [
    "import keras\n",
    "from keras import layers\n",
    "\n",
    "\n",
    "def build_classification_model(input_size: int, num_classes: int) -> keras.Model:\n",
    "    return keras.Sequential(\n",
    "        [\n",
    "            layers.Input([input_size], name=\"embedding_inputs\"),\n",
    "            layers.Dense(input_size, activation=\"relu\", name=\"hidden\"),\n",
    "            layers.Dense(num_classes, activation=\"softmax\", name=\"output_probs\"),\n",
    "        ]\n",
    "    )"
   ]
  },
  {
   "cell_type": "code",
   "execution_count": 17,
   "id": "caf98e31",
   "metadata": {
    "execution": {
     "iopub.execute_input": "2024-11-13T21:46:32.627444Z",
     "iopub.status.busy": "2024-11-13T21:46:32.626650Z",
     "iopub.status.idle": "2024-11-13T21:46:32.758174Z",
     "shell.execute_reply": "2024-11-13T21:46:32.756692Z"
    },
    "id": "kORA1Akl5GsG",
    "papermill": {
     "duration": 0.150731,
     "end_time": "2024-11-13T21:46:32.761263",
     "exception": false,
     "start_time": "2024-11-13T21:46:32.610532",
     "status": "completed"
    },
    "tags": []
   },
   "outputs": [
    {
     "data": {
      "text/html": [
       "<pre style=\"white-space:pre;overflow-x:auto;line-height:normal;font-family:Menlo,'DejaVu Sans Mono',consolas,'Courier New',monospace\"><span style=\"font-weight: bold\">Model: \"sequential\"</span>\n",
       "</pre>\n"
      ],
      "text/plain": [
       "\u001b[1mModel: \"sequential\"\u001b[0m\n"
      ]
     },
     "metadata": {},
     "output_type": "display_data"
    },
    {
     "data": {
      "text/html": [
       "<pre style=\"white-space:pre;overflow-x:auto;line-height:normal;font-family:Menlo,'DejaVu Sans Mono',consolas,'Courier New',monospace\">┏━━━━━━━━━━━━━━━━━━━━━━━━━━━━━━━━━┳━━━━━━━━━━━━━━━━━━━━━━━━┳━━━━━━━━━━━━━━━┓\n",
       "┃<span style=\"font-weight: bold\"> Layer (type)                    </span>┃<span style=\"font-weight: bold\"> Output Shape           </span>┃<span style=\"font-weight: bold\">       Param # </span>┃\n",
       "┡━━━━━━━━━━━━━━━━━━━━━━━━━━━━━━━━━╇━━━━━━━━━━━━━━━━━━━━━━━━╇━━━━━━━━━━━━━━━┩\n",
       "│ hidden (<span style=\"color: #0087ff; text-decoration-color: #0087ff\">Dense</span>)                  │ (<span style=\"color: #00d7ff; text-decoration-color: #00d7ff\">None</span>, <span style=\"color: #00af00; text-decoration-color: #00af00\">768</span>)            │       <span style=\"color: #00af00; text-decoration-color: #00af00\">590,592</span> │\n",
       "├─────────────────────────────────┼────────────────────────┼───────────────┤\n",
       "│ output_probs (<span style=\"color: #0087ff; text-decoration-color: #0087ff\">Dense</span>)            │ (<span style=\"color: #00d7ff; text-decoration-color: #00d7ff\">None</span>, <span style=\"color: #00af00; text-decoration-color: #00af00\">4</span>)              │         <span style=\"color: #00af00; text-decoration-color: #00af00\">3,076</span> │\n",
       "└─────────────────────────────────┴────────────────────────┴───────────────┘\n",
       "</pre>\n"
      ],
      "text/plain": [
       "┏━━━━━━━━━━━━━━━━━━━━━━━━━━━━━━━━━┳━━━━━━━━━━━━━━━━━━━━━━━━┳━━━━━━━━━━━━━━━┓\n",
       "┃\u001b[1m \u001b[0m\u001b[1mLayer (type)                   \u001b[0m\u001b[1m \u001b[0m┃\u001b[1m \u001b[0m\u001b[1mOutput Shape          \u001b[0m\u001b[1m \u001b[0m┃\u001b[1m \u001b[0m\u001b[1m      Param #\u001b[0m\u001b[1m \u001b[0m┃\n",
       "┡━━━━━━━━━━━━━━━━━━━━━━━━━━━━━━━━━╇━━━━━━━━━━━━━━━━━━━━━━━━╇━━━━━━━━━━━━━━━┩\n",
       "│ hidden (\u001b[38;5;33mDense\u001b[0m)                  │ (\u001b[38;5;45mNone\u001b[0m, \u001b[38;5;34m768\u001b[0m)            │       \u001b[38;5;34m590,592\u001b[0m │\n",
       "├─────────────────────────────────┼────────────────────────┼───────────────┤\n",
       "│ output_probs (\u001b[38;5;33mDense\u001b[0m)            │ (\u001b[38;5;45mNone\u001b[0m, \u001b[38;5;34m4\u001b[0m)              │         \u001b[38;5;34m3,076\u001b[0m │\n",
       "└─────────────────────────────────┴────────────────────────┴───────────────┘\n"
      ]
     },
     "metadata": {},
     "output_type": "display_data"
    },
    {
     "data": {
      "text/html": [
       "<pre style=\"white-space:pre;overflow-x:auto;line-height:normal;font-family:Menlo,'DejaVu Sans Mono',consolas,'Courier New',monospace\"><span style=\"font-weight: bold\"> Total params: </span><span style=\"color: #00af00; text-decoration-color: #00af00\">593,668</span> (2.26 MB)\n",
       "</pre>\n"
      ],
      "text/plain": [
       "\u001b[1m Total params: \u001b[0m\u001b[38;5;34m593,668\u001b[0m (2.26 MB)\n"
      ]
     },
     "metadata": {},
     "output_type": "display_data"
    },
    {
     "data": {
      "text/html": [
       "<pre style=\"white-space:pre;overflow-x:auto;line-height:normal;font-family:Menlo,'DejaVu Sans Mono',consolas,'Courier New',monospace\"><span style=\"font-weight: bold\"> Trainable params: </span><span style=\"color: #00af00; text-decoration-color: #00af00\">593,668</span> (2.26 MB)\n",
       "</pre>\n"
      ],
      "text/plain": [
       "\u001b[1m Trainable params: \u001b[0m\u001b[38;5;34m593,668\u001b[0m (2.26 MB)\n"
      ]
     },
     "metadata": {},
     "output_type": "display_data"
    },
    {
     "data": {
      "text/html": [
       "<pre style=\"white-space:pre;overflow-x:auto;line-height:normal;font-family:Menlo,'DejaVu Sans Mono',consolas,'Courier New',monospace\"><span style=\"font-weight: bold\"> Non-trainable params: </span><span style=\"color: #00af00; text-decoration-color: #00af00\">0</span> (0.00 B)\n",
       "</pre>\n"
      ],
      "text/plain": [
       "\u001b[1m Non-trainable params: \u001b[0m\u001b[38;5;34m0\u001b[0m (0.00 B)\n"
      ]
     },
     "metadata": {},
     "output_type": "display_data"
    }
   ],
   "source": [
    "# Derive the embedding size from observing the data. The embedding size can also be specified\n",
    "# with the `output_dimensionality` parameter to `embed_content` if you need to reduce it.\n",
    "embedding_size = len(df_train[\"Embeddings\"].iloc[0])\n",
    "\n",
    "classifier = build_classification_model(\n",
    "    embedding_size, len(df_train[\"Class Name\"].unique())\n",
    ")\n",
    "classifier.summary()\n",
    "\n",
    "classifier.compile(\n",
    "    loss=keras.losses.SparseCategoricalCrossentropy(),\n",
    "    optimizer=keras.optimizers.Adam(learning_rate=0.001),\n",
    "    metrics=[\"accuracy\"],\n",
    ")"
   ]
  },
  {
   "cell_type": "markdown",
   "id": "26d6b233",
   "metadata": {
    "id": "kbpTGGiMXDxl",
    "papermill": {
     "duration": 0.016173,
     "end_time": "2024-11-13T21:46:32.792838",
     "exception": false,
     "start_time": "2024-11-13T21:46:32.776665",
     "status": "completed"
    },
    "tags": []
   },
   "source": [
    "## Train the model\n",
    "\n",
    "Finally, you can train your model. This code uses early stopping to exit the training loop once the loss value stabilises, so the number of epoch loops executed may differ from the specified value."
   ]
  },
  {
   "cell_type": "code",
   "execution_count": 18,
   "id": "052c5baf",
   "metadata": {
    "execution": {
     "iopub.execute_input": "2024-11-13T21:46:32.832628Z",
     "iopub.status.busy": "2024-11-13T21:46:32.832100Z",
     "iopub.status.idle": "2024-11-13T21:46:37.460773Z",
     "shell.execute_reply": "2024-11-13T21:46:37.459321Z"
    },
    "id": "bGgvMZGfJ1A4",
    "papermill": {
     "duration": 4.655257,
     "end_time": "2024-11-13T21:46:37.463951",
     "exception": false,
     "start_time": "2024-11-13T21:46:32.808694",
     "status": "completed"
    },
    "tags": []
   },
   "outputs": [
    {
     "name": "stdout",
     "output_type": "stream",
     "text": [
      "Epoch 1/20\n",
      "\u001b[1m13/13\u001b[0m \u001b[32m━━━━━━━━━━━━━━━━━━━━\u001b[0m\u001b[37m\u001b[0m \u001b[1m1s\u001b[0m 27ms/step - accuracy: 0.2911 - loss: 1.3763 - val_accuracy: 0.7300 - val_loss: 1.2794\n",
      "Epoch 2/20\n",
      "\u001b[1m13/13\u001b[0m \u001b[32m━━━━━━━━━━━━━━━━━━━━\u001b[0m\u001b[37m\u001b[0m \u001b[1m0s\u001b[0m 9ms/step - accuracy: 0.8147 - loss: 1.2112 - val_accuracy: 0.8000 - val_loss: 1.1480\n",
      "Epoch 3/20\n",
      "\u001b[1m13/13\u001b[0m \u001b[32m━━━━━━━━━━━━━━━━━━━━\u001b[0m\u001b[37m\u001b[0m \u001b[1m0s\u001b[0m 9ms/step - accuracy: 0.8516 - loss: 1.0274 - val_accuracy: 0.6900 - val_loss: 0.9993\n",
      "Epoch 4/20\n",
      "\u001b[1m13/13\u001b[0m \u001b[32m━━━━━━━━━━━━━━━━━━━━\u001b[0m\u001b[37m\u001b[0m \u001b[1m0s\u001b[0m 10ms/step - accuracy: 0.8583 - loss: 0.8347 - val_accuracy: 0.8200 - val_loss: 0.8297\n",
      "Epoch 5/20\n",
      "\u001b[1m13/13\u001b[0m \u001b[32m━━━━━━━━━━━━━━━━━━━━\u001b[0m\u001b[37m\u001b[0m \u001b[1m0s\u001b[0m 10ms/step - accuracy: 0.9456 - loss: 0.6383 - val_accuracy: 0.8800 - val_loss: 0.6829\n",
      "Epoch 6/20\n",
      "\u001b[1m13/13\u001b[0m \u001b[32m━━━━━━━━━━━━━━━━━━━━\u001b[0m\u001b[37m\u001b[0m \u001b[1m0s\u001b[0m 10ms/step - accuracy: 0.9401 - loss: 0.5019 - val_accuracy: 0.8600 - val_loss: 0.5897\n",
      "Epoch 7/20\n",
      "\u001b[1m13/13\u001b[0m \u001b[32m━━━━━━━━━━━━━━━━━━━━\u001b[0m\u001b[37m\u001b[0m \u001b[1m0s\u001b[0m 9ms/step - accuracy: 0.9580 - loss: 0.3775 - val_accuracy: 0.9000 - val_loss: 0.4958\n",
      "Epoch 8/20\n",
      "\u001b[1m13/13\u001b[0m \u001b[32m━━━━━━━━━━━━━━━━━━━━\u001b[0m\u001b[37m\u001b[0m \u001b[1m0s\u001b[0m 9ms/step - accuracy: 0.9788 - loss: 0.2787 - val_accuracy: 0.9000 - val_loss: 0.4371\n",
      "Epoch 9/20\n",
      "\u001b[1m13/13\u001b[0m \u001b[32m━━━━━━━━━━━━━━━━━━━━\u001b[0m\u001b[37m\u001b[0m \u001b[1m0s\u001b[0m 9ms/step - accuracy: 0.9732 - loss: 0.2242 - val_accuracy: 0.9200 - val_loss: 0.3891\n",
      "Epoch 10/20\n",
      "\u001b[1m13/13\u001b[0m \u001b[32m━━━━━━━━━━━━━━━━━━━━\u001b[0m\u001b[37m\u001b[0m \u001b[1m0s\u001b[0m 10ms/step - accuracy: 0.9788 - loss: 0.1993 - val_accuracy: 0.8900 - val_loss: 0.3772\n",
      "Epoch 11/20\n",
      "\u001b[1m13/13\u001b[0m \u001b[32m━━━━━━━━━━━━━━━━━━━━\u001b[0m\u001b[37m\u001b[0m \u001b[1m0s\u001b[0m 9ms/step - accuracy: 0.9882 - loss: 0.1535 - val_accuracy: 0.8900 - val_loss: 0.3508\n",
      "Epoch 12/20\n",
      "\u001b[1m13/13\u001b[0m \u001b[32m━━━━━━━━━━━━━━━━━━━━\u001b[0m\u001b[37m\u001b[0m \u001b[1m0s\u001b[0m 9ms/step - accuracy: 0.9871 - loss: 0.1297 - val_accuracy: 0.9000 - val_loss: 0.3248\n",
      "Epoch 13/20\n",
      "\u001b[1m13/13\u001b[0m \u001b[32m━━━━━━━━━━━━━━━━━━━━\u001b[0m\u001b[37m\u001b[0m \u001b[1m0s\u001b[0m 9ms/step - accuracy: 0.9937 - loss: 0.1107 - val_accuracy: 0.9000 - val_loss: 0.3042\n",
      "Epoch 14/20\n",
      "\u001b[1m13/13\u001b[0m \u001b[32m━━━━━━━━━━━━━━━━━━━━\u001b[0m\u001b[37m\u001b[0m \u001b[1m0s\u001b[0m 9ms/step - accuracy: 0.9875 - loss: 0.0990 - val_accuracy: 0.9100 - val_loss: 0.2933\n",
      "Epoch 15/20\n",
      "\u001b[1m13/13\u001b[0m \u001b[32m━━━━━━━━━━━━━━━━━━━━\u001b[0m\u001b[37m\u001b[0m \u001b[1m0s\u001b[0m 9ms/step - accuracy: 0.9748 - loss: 0.1015 - val_accuracy: 0.8600 - val_loss: 0.3293\n",
      "Epoch 16/20\n",
      "\u001b[1m13/13\u001b[0m \u001b[32m━━━━━━━━━━━━━━━━━━━━\u001b[0m\u001b[37m\u001b[0m \u001b[1m0s\u001b[0m 10ms/step - accuracy: 0.9951 - loss: 0.0791 - val_accuracy: 0.9200 - val_loss: 0.2596\n",
      "Epoch 17/20\n",
      "\u001b[1m13/13\u001b[0m \u001b[32m━━━━━━━━━━━━━━━━━━━━\u001b[0m\u001b[37m\u001b[0m \u001b[1m0s\u001b[0m 9ms/step - accuracy: 0.9894 - loss: 0.0760 - val_accuracy: 0.9200 - val_loss: 0.2558\n",
      "Epoch 18/20\n",
      "\u001b[1m13/13\u001b[0m \u001b[32m━━━━━━━━━━━━━━━━━━━━\u001b[0m\u001b[37m\u001b[0m \u001b[1m0s\u001b[0m 10ms/step - accuracy: 0.9975 - loss: 0.0501 - val_accuracy: 0.9000 - val_loss: 0.2656\n",
      "Epoch 19/20\n",
      "\u001b[1m13/13\u001b[0m \u001b[32m━━━━━━━━━━━━━━━━━━━━\u001b[0m\u001b[37m\u001b[0m \u001b[1m0s\u001b[0m 9ms/step - accuracy: 0.9979 - loss: 0.0487 - val_accuracy: 0.9100 - val_loss: 0.2434\n",
      "Epoch 20/20\n",
      "\u001b[1m13/13\u001b[0m \u001b[32m━━━━━━━━━━━━━━━━━━━━\u001b[0m\u001b[37m\u001b[0m \u001b[1m0s\u001b[0m 9ms/step - accuracy: 0.9951 - loss: 0.0517 - val_accuracy: 0.9100 - val_loss: 0.2497\n"
     ]
    }
   ],
   "source": [
    "import numpy as np\n",
    "\n",
    "\n",
    "NUM_EPOCHS = 20\n",
    "BATCH_SIZE = 32\n",
    "\n",
    "# Split the x and y components of the train and validation subsets.\n",
    "y_train = df_train[\"Encoded Label\"]\n",
    "x_train = np.stack(df_train[\"Embeddings\"])\n",
    "y_val = df_test[\"Encoded Label\"]\n",
    "x_val = np.stack(df_test[\"Embeddings\"])\n",
    "\n",
    "# Specify that it's OK to stop early if accuracy stabilises.\n",
    "early_stop = keras.callbacks.EarlyStopping(monitor=\"accuracy\", patience=3)\n",
    "\n",
    "# Train the model for the desired number of epochs.\n",
    "history = classifier.fit(\n",
    "    x=x_train,\n",
    "    y=y_train,\n",
    "    validation_data=(x_val, y_val),\n",
    "    callbacks=[early_stop],\n",
    "    batch_size=BATCH_SIZE,\n",
    "    epochs=NUM_EPOCHS,\n",
    ")"
   ]
  },
  {
   "cell_type": "markdown",
   "id": "44563eb3",
   "metadata": {
    "id": "xGBaDHZUPdJO",
    "papermill": {
     "duration": 0.022663,
     "end_time": "2024-11-13T21:46:37.509442",
     "exception": false,
     "start_time": "2024-11-13T21:46:37.486779",
     "status": "completed"
    },
    "tags": []
   },
   "source": [
    "## Evaluate model performance\n",
    "\n",
    "Use Keras <a href=\"https://www.tensorflow.org/api_docs/python/tf/keras/Model#evaluate\"><code>Model.evaluate</code></a> to calculate the loss and accuracy on the test dataset."
   ]
  },
  {
   "cell_type": "code",
   "execution_count": 19,
   "id": "a3b2857b",
   "metadata": {
    "execution": {
     "iopub.execute_input": "2024-11-13T21:46:37.556928Z",
     "iopub.status.busy": "2024-11-13T21:46:37.556472Z",
     "iopub.status.idle": "2024-11-13T21:46:37.655690Z",
     "shell.execute_reply": "2024-11-13T21:46:37.654321Z"
    },
    "id": "d2kOeiqqQIB8",
    "papermill": {
     "duration": 0.126409,
     "end_time": "2024-11-13T21:46:37.658565",
     "exception": false,
     "start_time": "2024-11-13T21:46:37.532156",
     "status": "completed"
    },
    "tags": []
   },
   "outputs": [
    {
     "name": "stdout",
     "output_type": "stream",
     "text": [
      "\u001b[1m4/4\u001b[0m \u001b[32m━━━━━━━━━━━━━━━━━━━━\u001b[0m\u001b[37m\u001b[0m \u001b[1m0s\u001b[0m 3ms/step - accuracy: 0.9223 - loss: 0.2271 \n"
     ]
    },
    {
     "data": {
      "text/plain": [
       "{'accuracy': 0.9100000262260437, 'loss': 0.2496592402458191}"
      ]
     },
     "execution_count": 19,
     "metadata": {},
     "output_type": "execute_result"
    }
   ],
   "source": [
    "classifier.evaluate(x=x_val, y=y_val, return_dict=True)"
   ]
  },
  {
   "cell_type": "markdown",
   "id": "acf76b9a",
   "metadata": {
    "id": "UyxMhiLYQXAN",
    "papermill": {
     "duration": 0.023122,
     "end_time": "2024-11-13T21:46:37.704658",
     "exception": false,
     "start_time": "2024-11-13T21:46:37.681536",
     "status": "completed"
    },
    "tags": []
   },
   "source": [
    "To learn more about training models with Keras, including how to visualise the model training metrics, read [Training & evaluation with built-in methods](https://www.tensorflow.org/guide/keras/training_with_built_in_methods)."
   ]
  },
  {
   "cell_type": "markdown",
   "id": "943a7130",
   "metadata": {
    "id": "XHyP-_torwsm",
    "papermill": {
     "duration": 0.02264,
     "end_time": "2024-11-13T21:46:37.750474",
     "exception": false,
     "start_time": "2024-11-13T21:46:37.727834",
     "status": "completed"
    },
    "tags": []
   },
   "source": [
    "## Try a custom prediction\n",
    "\n",
    "Now that you have a trained model with good evaluation metrics, you can try to make a prediction with new, hand-written data. Use the provided example or try your own data to see how the model performs."
   ]
  },
  {
   "cell_type": "code",
   "execution_count": 20,
   "id": "7712a570",
   "metadata": {
    "execution": {
     "iopub.execute_input": "2024-11-13T21:46:37.798588Z",
     "iopub.status.busy": "2024-11-13T21:46:37.798111Z",
     "iopub.status.idle": "2024-11-13T21:46:38.049712Z",
     "shell.execute_reply": "2024-11-13T21:46:38.048485Z"
    },
    "id": "Lj4gR0Mdr2rb",
    "papermill": {
     "duration": 0.27923,
     "end_time": "2024-11-13T21:46:38.052653",
     "exception": false,
     "start_time": "2024-11-13T21:46:37.773423",
     "status": "completed"
    },
    "tags": []
   },
   "outputs": [],
   "source": [
    "# This example avoids any space-specific terminology to see if the model avoids\n",
    "# biases towards specific jargon.\n",
    "new_text = \"\"\"\n",
    "First-timer looking to get out of here.\n",
    "\n",
    "Hi, I'm writing about my interest in travelling to the outer limits!\n",
    "\n",
    "What kind of craft can I buy? What is easiest to access from this 3rd rock?\n",
    "\n",
    "Let me know how to do that please.\n",
    "\"\"\"\n",
    "embedded = embed_fn(new_text)"
   ]
  },
  {
   "cell_type": "code",
   "execution_count": 21,
   "id": "749e1a8a",
   "metadata": {
    "execution": {
     "iopub.execute_input": "2024-11-13T21:46:38.106882Z",
     "iopub.status.busy": "2024-11-13T21:46:38.106356Z",
     "iopub.status.idle": "2024-11-13T21:46:38.221653Z",
     "shell.execute_reply": "2024-11-13T21:46:38.220043Z"
    },
    "id": "CKTHEMrRsbcu",
    "papermill": {
     "duration": 0.144673,
     "end_time": "2024-11-13T21:46:38.224353",
     "exception": false,
     "start_time": "2024-11-13T21:46:38.079680",
     "status": "completed"
    },
    "tags": []
   },
   "outputs": [
    {
     "name": "stdout",
     "output_type": "stream",
     "text": [
      "\u001b[1m1/1\u001b[0m \u001b[32m━━━━━━━━━━━━━━━━━━━━\u001b[0m\u001b[37m\u001b[0m \u001b[1m0s\u001b[0m 51ms/step\n",
      "sci.crypt: 0.06%\n",
      "sci.electronics: 0.44%\n",
      "sci.med: 0.04%\n",
      "sci.space: 99.46%\n"
     ]
    }
   ],
   "source": [
    "# Remember that the model takes embeddings as input, and the input must be batched,\n",
    "# so here they are passed as a list to provide a batch of 1.\n",
    "inp = np.array([embedded])\n",
    "[result] = classifier.predict(inp)\n",
    "\n",
    "for idx, category in enumerate(df_test[\"Class Name\"].cat.categories):\n",
    "    print(f\"{category}: {result[idx] * 100:0.2f}%\")"
   ]
  }
 ],
 "metadata": {
  "colab": {
   "name": "day-2-classifying-embeddings-with-keras.ipynb",
   "toc_visible": true
  },
  "google": {
   "image_path": "/examples/train_text_classifier_embeddings_files/output_3ae76701e178_0.png",
   "keywords": [
    "examples",
    "googleai",
    "samplecode",
    "python",
    "embed"
   ]
  },
  "kaggle": {
   "accelerator": "none",
   "dataSources": [],
   "dockerImageVersionId": 30786,
   "isGpuEnabled": false,
   "isInternetEnabled": true,
   "language": "python",
   "sourceType": "notebook"
  },
  "kernelspec": {
   "display_name": "Python 3",
   "language": "python",
   "name": "python3"
  },
  "language_info": {
   "codemirror_mode": {
    "name": "ipython",
    "version": 3
   },
   "file_extension": ".py",
   "mimetype": "text/x-python",
   "name": "python",
   "nbconvert_exporter": "python",
   "pygments_lexer": "ipython3",
   "version": "3.10.14"
  },
  "papermill": {
   "default_parameters": {},
   "duration": 188.903395,
   "end_time": "2024-11-13T21:46:40.176437",
   "environment_variables": {},
   "exception": null,
   "input_path": "__notebook__.ipynb",
   "output_path": "__notebook__.ipynb",
   "parameters": {},
   "start_time": "2024-11-13T21:43:31.273042",
   "version": "2.6.0"
  },
  "widgets": {
   "application/vnd.jupyter.widget-state+json": {
    "state": {
     "4172997309bd49b8be79e81986572a1c": {
      "model_module": "@jupyter-widgets/base",
      "model_module_version": "1.2.0",
      "model_name": "LayoutModel",
      "state": {
       "_model_module": "@jupyter-widgets/base",
       "_model_module_version": "1.2.0",
       "_model_name": "LayoutModel",
       "_view_count": null,
       "_view_module": "@jupyter-widgets/base",
       "_view_module_version": "1.2.0",
       "_view_name": "LayoutView",
       "align_content": null,
       "align_items": null,
       "align_self": null,
       "border": null,
       "bottom": null,
       "display": null,
       "flex": null,
       "flex_flow": null,
       "grid_area": null,
       "grid_auto_columns": null,
       "grid_auto_flow": null,
       "grid_auto_rows": null,
       "grid_column": null,
       "grid_gap": null,
       "grid_row": null,
       "grid_template_areas": null,
       "grid_template_columns": null,
       "grid_template_rows": null,
       "height": null,
       "justify_content": null,
       "justify_items": null,
       "left": null,
       "margin": null,
       "max_height": null,
       "max_width": null,
       "min_height": null,
       "min_width": null,
       "object_fit": null,
       "object_position": null,
       "order": null,
       "overflow": null,
       "overflow_x": null,
       "overflow_y": null,
       "padding": null,
       "right": null,
       "top": null,
       "visibility": null,
       "width": null
      }
     },
     "4bc604dd505e417da9aedb0686eb1e13": {
      "model_module": "@jupyter-widgets/output",
      "model_module_version": "1.0.0",
      "model_name": "OutputModel",
      "state": {
       "_dom_classes": [],
       "_model_module": "@jupyter-widgets/output",
       "_model_module_version": "1.0.0",
       "_model_name": "OutputModel",
       "_view_count": null,
       "_view_module": "@jupyter-widgets/output",
       "_view_module_version": "1.0.0",
       "_view_name": "OutputView",
       "layout": "IPY_MODEL_4172997309bd49b8be79e81986572a1c",
       "msg_id": "",
       "outputs": [
        {
         "data": {
          "text/html": "<pre style=\"white-space:pre;overflow-x:auto;line-height:normal;font-family:Menlo,'DejaVu Sans Mono',consolas,'Courier New',monospace\"><span style=\"color: #800080; text-decoration-color: #800080\"> 100%</span> <span style=\"color: #729c1f; text-decoration-color: #729c1f\">━━━━━━━━━━━━━━━━━━━━━━━━━━━━━━━━━━━━━━━━━━━━━━━━━━━━━━━━━━━━━━━━━━━━━</span> <span style=\"color: #008000; text-decoration-color: #008000\">100/100 </span> [ <span style=\"color: #808000; text-decoration-color: #808000\">0:00:17</span> &lt; <span style=\"color: #008080; text-decoration-color: #008080\">0:00:00</span> , <span style=\"color: #800000; text-decoration-color: #800000\">6 it/s</span> ]\n</pre>\n",
          "text/plain": "\u001b[35m 100%\u001b[0m \u001b[38;2;114;156;31m━━━━━━━━━━━━━━━━━━━━━━━━━━━━━━━━━━━━━━━━━━━━━━━━━━━━━━━━━━━━━━━━━━━━━\u001b[0m \u001b[32m100/100 \u001b[0m [ \u001b[33m0:00:17\u001b[0m < \u001b[36m0:00:00\u001b[0m , \u001b[31m6 it/s\u001b[0m ]\n"
         },
         "metadata": {},
         "output_type": "display_data"
        }
       ]
      }
     },
     "74431fd017e6427d8d4f99e55f615243": {
      "model_module": "@jupyter-widgets/output",
      "model_module_version": "1.0.0",
      "model_name": "OutputModel",
      "state": {
       "_dom_classes": [],
       "_model_module": "@jupyter-widgets/output",
       "_model_module_version": "1.0.0",
       "_model_name": "OutputModel",
       "_view_count": null,
       "_view_module": "@jupyter-widgets/output",
       "_view_module_version": "1.0.0",
       "_view_name": "OutputView",
       "layout": "IPY_MODEL_b6a83a1a5db946bda0c78f453bd974ec",
       "msg_id": "",
       "outputs": [
        {
         "data": {
          "text/html": "<pre style=\"white-space:pre;overflow-x:auto;line-height:normal;font-family:Menlo,'DejaVu Sans Mono',consolas,'Courier New',monospace\"><span style=\"color: #800080; text-decoration-color: #800080\"> 100%</span> <span style=\"color: #729c1f; text-decoration-color: #729c1f\">━━━━━━━━━━━━━━━━━━━━━━━━━━━━━━━━━━━━━━━━━━━━━━━━━━━━━━━━━━━━━━━━━━━━━</span> <span style=\"color: #008000; text-decoration-color: #008000\">400/400 </span> [ <span style=\"color: #808000; text-decoration-color: #808000\">0:01:14</span> &lt; <span style=\"color: #008080; text-decoration-color: #008080\">0:00:00</span> , <span style=\"color: #800000; text-decoration-color: #800000\">6 it/s</span> ]\n</pre>\n",
          "text/plain": "\u001b[35m 100%\u001b[0m \u001b[38;2;114;156;31m━━━━━━━━━━━━━━━━━━━━━━━━━━━━━━━━━━━━━━━━━━━━━━━━━━━━━━━━━━━━━━━━━━━━━\u001b[0m \u001b[32m400/400 \u001b[0m [ \u001b[33m0:01:14\u001b[0m < \u001b[36m0:00:00\u001b[0m , \u001b[31m6 it/s\u001b[0m ]\n"
         },
         "metadata": {},
         "output_type": "display_data"
        }
       ]
      }
     },
     "b6a83a1a5db946bda0c78f453bd974ec": {
      "model_module": "@jupyter-widgets/base",
      "model_module_version": "1.2.0",
      "model_name": "LayoutModel",
      "state": {
       "_model_module": "@jupyter-widgets/base",
       "_model_module_version": "1.2.0",
       "_model_name": "LayoutModel",
       "_view_count": null,
       "_view_module": "@jupyter-widgets/base",
       "_view_module_version": "1.2.0",
       "_view_name": "LayoutView",
       "align_content": null,
       "align_items": null,
       "align_self": null,
       "border": null,
       "bottom": null,
       "display": null,
       "flex": null,
       "flex_flow": null,
       "grid_area": null,
       "grid_auto_columns": null,
       "grid_auto_flow": null,
       "grid_auto_rows": null,
       "grid_column": null,
       "grid_gap": null,
       "grid_row": null,
       "grid_template_areas": null,
       "grid_template_columns": null,
       "grid_template_rows": null,
       "height": null,
       "justify_content": null,
       "justify_items": null,
       "left": null,
       "margin": null,
       "max_height": null,
       "max_width": null,
       "min_height": null,
       "min_width": null,
       "object_fit": null,
       "object_position": null,
       "order": null,
       "overflow": null,
       "overflow_x": null,
       "overflow_y": null,
       "padding": null,
       "right": null,
       "top": null,
       "visibility": null,
       "width": null
      }
     }
    },
    "version_major": 2,
    "version_minor": 0
   }
  }
 },
 "nbformat": 4,
 "nbformat_minor": 5
}
