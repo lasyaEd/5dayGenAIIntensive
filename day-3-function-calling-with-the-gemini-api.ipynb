{
 "cells": [
  {
   "cell_type": "markdown",
   "id": "c7d43479",
   "metadata": {
    "id": "b6e13eef3f5d",
    "papermill": {
     "duration": 0.011194,
     "end_time": "2024-11-16T04:06:18.432739",
     "exception": false,
     "start_time": "2024-11-16T04:06:18.421545",
     "status": "completed"
    },
    "tags": []
   },
   "source": [
    "##### Copyright 2024 Google LLC."
   ]
  },
  {
   "cell_type": "code",
   "execution_count": 1,
   "id": "1ea270da",
   "metadata": {
    "cellView": "form",
    "execution": {
     "iopub.execute_input": "2024-11-16T04:06:18.454072Z",
     "iopub.status.busy": "2024-11-16T04:06:18.453515Z",
     "iopub.status.idle": "2024-11-16T04:06:18.460365Z",
     "shell.execute_reply": "2024-11-16T04:06:18.459388Z"
    },
    "id": "d6597b11df14",
    "jupyter": {
     "source_hidden": true
    },
    "papermill": {
     "duration": 0.020385,
     "end_time": "2024-11-16T04:06:18.463003",
     "exception": false,
     "start_time": "2024-11-16T04:06:18.442618",
     "status": "completed"
    },
    "tags": []
   },
   "outputs": [],
   "source": [
    "# @title Licensed under the Apache License, Version 2.0 (the \"License\");\n",
    "# you may not use this file except in compliance with the License.\n",
    "# You may obtain a copy of the License at\n",
    "#\n",
    "# https://www.apache.org/licenses/LICENSE-2.0\n",
    "#\n",
    "# Unless required by applicable law or agreed to in writing, software\n",
    "# distributed under the License is distributed on an \"AS IS\" BASIS,\n",
    "# WITHOUT WARRANTIES OR CONDITIONS OF ANY KIND, either express or implied.\n",
    "# See the License for the specific language governing permissions and\n",
    "# limitations under the License."
   ]
  },
  {
   "cell_type": "markdown",
   "id": "b1aac992",
   "metadata": {
    "id": "4a7d3bb68371",
    "papermill": {
     "duration": 0.009245,
     "end_time": "2024-11-16T04:06:18.482220",
     "exception": false,
     "start_time": "2024-11-16T04:06:18.472975",
     "status": "completed"
    },
    "tags": []
   },
   "source": [
    "# Day 3 - Function calling with the Gemini API\n",
    "\n",
    "Welcome back to the Kaggle 5-day Generative AI course!\n",
    "\n",
    "In this notebook, you will use the Gemini API's automatic function calling to build a chat interface over a local database. This example is a toy and is missing a number of safety and security constraints you would use in a real-world example.\n",
    "\n",
    "## For help\n",
    "\n",
    "**Common issues are covered in the [FAQ and troubleshooting guide](https://www.kaggle.com/code/markishere/day-0-troubleshooting-and-faqs).**"
   ]
  },
  {
   "cell_type": "markdown",
   "id": "bc27fc2d",
   "metadata": {
    "id": "ea197d1d464f",
    "papermill": {
     "duration": 0.00921,
     "end_time": "2024-11-16T04:06:18.501126",
     "exception": false,
     "start_time": "2024-11-16T04:06:18.491916",
     "status": "completed"
    },
    "tags": []
   },
   "source": [
    "## Setup\n",
    "\n",
    "Start by installing and importing the Python SDK."
   ]
  },
  {
   "cell_type": "code",
   "execution_count": 2,
   "id": "69fb66eb",
   "metadata": {
    "execution": {
     "iopub.execute_input": "2024-11-16T04:06:18.522725Z",
     "iopub.status.busy": "2024-11-16T04:06:18.521635Z",
     "iopub.status.idle": "2024-11-16T04:06:51.326828Z",
     "shell.execute_reply": "2024-11-16T04:06:51.325266Z"
    },
    "id": "a24f42e469df",
    "papermill": {
     "duration": 32.826518,
     "end_time": "2024-11-16T04:06:51.337753",
     "exception": false,
     "start_time": "2024-11-16T04:06:18.511235",
     "status": "completed"
    },
    "tags": []
   },
   "outputs": [
    {
     "name": "stdout",
     "output_type": "stream",
     "text": [
      "Note: you may need to restart the kernel to use updated packages.\n"
     ]
    }
   ],
   "source": [
    "%pip install -q -U 'google-generativeai>=0.8.3'"
   ]
  },
  {
   "cell_type": "code",
   "execution_count": 3,
   "id": "a5c3dd44",
   "metadata": {
    "execution": {
     "iopub.execute_input": "2024-11-16T04:06:51.360304Z",
     "iopub.status.busy": "2024-11-16T04:06:51.359149Z",
     "iopub.status.idle": "2024-11-16T04:06:52.541355Z",
     "shell.execute_reply": "2024-11-16T04:06:52.540288Z"
    },
    "id": "02bb0f551e25",
    "papermill": {
     "duration": 1.196968,
     "end_time": "2024-11-16T04:06:52.544592",
     "exception": false,
     "start_time": "2024-11-16T04:06:51.347624",
     "status": "completed"
    },
    "tags": []
   },
   "outputs": [],
   "source": [
    "import google.generativeai as genai"
   ]
  },
  {
   "cell_type": "markdown",
   "id": "97b90bc4",
   "metadata": {
    "id": "90e83cddff61",
    "papermill": {
     "duration": 0.009411,
     "end_time": "2024-11-16T04:06:52.564118",
     "exception": false,
     "start_time": "2024-11-16T04:06:52.554707",
     "status": "completed"
    },
    "tags": []
   },
   "source": [
    "### Set up your API key\n",
    "\n",
    "To run the following cell, your API key must be stored it in a [Kaggle secret](https://www.kaggle.com/discussions/product-feedback/114053) named `GOOGLE_API_KEY`.\n",
    "\n",
    "If you don't already have an API key, you can grab one from [AI Studio](https://aistudio.google.com/app/apikey). You can find [detailed instructions in the docs](https://ai.google.dev/gemini-api/docs/api-key).\n",
    "\n",
    "To make the key available through Kaggle secrets, choose `Secrets` from the `Add-ons` menu and follow the instructions to add your key or enable it for this notebook."
   ]
  },
  {
   "cell_type": "code",
   "execution_count": 4,
   "id": "fd67a8c8",
   "metadata": {
    "execution": {
     "iopub.execute_input": "2024-11-16T04:06:52.585570Z",
     "iopub.status.busy": "2024-11-16T04:06:52.584778Z",
     "iopub.status.idle": "2024-11-16T04:06:52.862235Z",
     "shell.execute_reply": "2024-11-16T04:06:52.861234Z"
    },
    "id": "5cc8325f051d",
    "papermill": {
     "duration": 0.291214,
     "end_time": "2024-11-16T04:06:52.865032",
     "exception": false,
     "start_time": "2024-11-16T04:06:52.573818",
     "status": "completed"
    },
    "tags": []
   },
   "outputs": [],
   "source": [
    "from kaggle_secrets import UserSecretsClient\n",
    "\n",
    "GOOGLE_API_KEY = UserSecretsClient().get_secret(\"GOOGLE_API_KEY\")\n",
    "genai.configure(api_key=GOOGLE_API_KEY)"
   ]
  },
  {
   "cell_type": "markdown",
   "id": "eff99872",
   "metadata": {
    "id": "857b6f96eb38",
    "papermill": {
     "duration": 0.009745,
     "end_time": "2024-11-16T04:06:52.884402",
     "exception": false,
     "start_time": "2024-11-16T04:06:52.874657",
     "status": "completed"
    },
    "tags": []
   },
   "source": [
    "If you received an error response along the lines of `No user secrets exist for kernel id ...`, then you need to add your API key via `Add-ons`, `Secrets` **and** enable it.\n",
    "\n",
    "![Screenshot of the checkbox to enable GOOGLE_API_KEY secret](https://storage.googleapis.com/kaggle-media/Images/5gdai_sc_3.png)"
   ]
  },
  {
   "cell_type": "markdown",
   "id": "8bcf64c0",
   "metadata": {
    "id": "ed8fc6062c62",
    "papermill": {
     "duration": 0.009572,
     "end_time": "2024-11-16T04:06:52.903754",
     "exception": false,
     "start_time": "2024-11-16T04:06:52.894182",
     "status": "completed"
    },
    "tags": []
   },
   "source": [
    "## Create a local database\n",
    "\n",
    "For this minimal example, you'll create a local SQLite database and add some synthetic data so you have something to query.\n",
    "\n",
    "Load the `sql` IPython extension so you can interact with the database using magic commands (the `%` instructions) to create a new, empty SQLite database."
   ]
  },
  {
   "cell_type": "code",
   "execution_count": 5,
   "id": "bc113bda",
   "metadata": {
    "execution": {
     "iopub.execute_input": "2024-11-16T04:06:52.925118Z",
     "iopub.status.busy": "2024-11-16T04:06:52.924128Z",
     "iopub.status.idle": "2024-11-16T04:06:54.589201Z",
     "shell.execute_reply": "2024-11-16T04:06:54.588347Z"
    },
    "id": "c98a627ef07b",
    "papermill": {
     "duration": 1.678898,
     "end_time": "2024-11-16T04:06:54.592086",
     "exception": false,
     "start_time": "2024-11-16T04:06:52.913188",
     "status": "completed"
    },
    "tags": []
   },
   "outputs": [],
   "source": [
    "%load_ext sql\n",
    "%sql sqlite:///sample.db"
   ]
  },
  {
   "cell_type": "markdown",
   "id": "313708cc",
   "metadata": {
    "id": "14e7bc18b8af",
    "papermill": {
     "duration": 0.009019,
     "end_time": "2024-11-16T04:06:54.610787",
     "exception": false,
     "start_time": "2024-11-16T04:06:54.601768",
     "status": "completed"
    },
    "tags": []
   },
   "source": [
    "Create the tables and insert some synthetic data. Feel free to tweak this structure and data."
   ]
  },
  {
   "cell_type": "code",
   "execution_count": 6,
   "id": "cd6bcdc3",
   "metadata": {
    "execution": {
     "iopub.execute_input": "2024-11-16T04:06:54.638541Z",
     "iopub.status.busy": "2024-11-16T04:06:54.637645Z",
     "iopub.status.idle": "2024-11-16T04:06:54.730873Z",
     "shell.execute_reply": "2024-11-16T04:06:54.729620Z"
    },
    "id": "4e186de46cf1",
    "papermill": {
     "duration": 0.110873,
     "end_time": "2024-11-16T04:06:54.733615",
     "exception": false,
     "start_time": "2024-11-16T04:06:54.622742",
     "status": "completed"
    },
    "tags": []
   },
   "outputs": [
    {
     "name": "stdout",
     "output_type": "stream",
     "text": [
      " * sqlite:///sample.db\n",
      "Done.\n",
      "Done.\n",
      "Done.\n",
      "3 rows affected.\n",
      "3 rows affected.\n",
      "3 rows affected.\n"
     ]
    },
    {
     "data": {
      "text/plain": [
       "[]"
      ]
     },
     "execution_count": 6,
     "metadata": {},
     "output_type": "execute_result"
    }
   ],
   "source": [
    "%%sql\n",
    "-- Create the 'products' table\n",
    "CREATE TABLE IF NOT EXISTS products (\n",
    "  \tproduct_id INTEGER PRIMARY KEY AUTOINCREMENT,\n",
    "  \tproduct_name VARCHAR(255) NOT NULL,\n",
    "  \tprice DECIMAL(10, 2) NOT NULL\n",
    "  );\n",
    "\n",
    "-- Create the 'staff' table\n",
    "CREATE TABLE IF NOT EXISTS staff (\n",
    "  \tstaff_id INTEGER PRIMARY KEY AUTOINCREMENT,\n",
    "  \tfirst_name VARCHAR(255) NOT NULL,\n",
    "  \tlast_name VARCHAR(255) NOT NULL\n",
    "  );\n",
    "\n",
    "-- Create the 'orders' table\n",
    "CREATE TABLE IF NOT EXISTS orders (\n",
    "  \torder_id INTEGER PRIMARY KEY AUTOINCREMENT,\n",
    "  \tcustomer_name VARCHAR(255) NOT NULL,\n",
    "  \tstaff_id INTEGER NOT NULL,\n",
    "  \tproduct_id INTEGER NOT NULL,\n",
    "  \tFOREIGN KEY (staff_id) REFERENCES staff (staff_id),\n",
    "  \tFOREIGN KEY (product_id) REFERENCES products (product_id)\n",
    "  );\n",
    "\n",
    "-- Insert data into the 'products' table\n",
    "INSERT INTO products (product_name, price) VALUES\n",
    "  \t('Laptop', 799.99),\n",
    "  \t('Keyboard', 129.99),\n",
    "  \t('Mouse', 29.99);\n",
    "\n",
    "-- Insert data into the 'staff' table\n",
    "INSERT INTO staff (first_name, last_name) VALUES\n",
    "  \t('Alice', 'Smith'),\n",
    "  \t('Bob', 'Johnson'),\n",
    "  \t('Charlie', 'Williams');\n",
    "\n",
    "-- Insert data into the 'orders' table\n",
    "INSERT INTO orders (customer_name, staff_id, product_id) VALUES\n",
    "  \t('David Lee', 1, 1),\n",
    "  \t('Emily Chen', 2, 2),\n",
    "  \t('Frank Brown', 1, 3);"
   ]
  },
  {
   "cell_type": "markdown",
   "id": "7d4cc3b1",
   "metadata": {
    "id": "83901899a79b",
    "papermill": {
     "duration": 0.009464,
     "end_time": "2024-11-16T04:06:54.752875",
     "exception": false,
     "start_time": "2024-11-16T04:06:54.743411",
     "status": "completed"
    },
    "tags": []
   },
   "source": [
    "## Define database functions\n",
    "\n",
    "Function calling with Gemini API's Python SDK can be implemented by defining [an OpenAPI schema](https://ai.google.dev/api/caching#Schema) that is passed to the model. Alternatively you can define Python functions and let the SDK inspect them to automatically define the schema. In this latter case, it's important that the functions are type annotated and have accurate docstrings that describe what the functions do - the model has no insight into the function body, so the docs function as the interface.\n",
    "\n",
    "By providing three key pieces of functionality - listing tables, describing a table, and executing a query - the LLM (or even another user) will have the basic tools needed to understand and interrogate the database.\n",
    "\n",
    "Start with a database connection that will be used across all of the functions."
   ]
  },
  {
   "cell_type": "code",
   "execution_count": 7,
   "id": "aa7ae9d6",
   "metadata": {
    "execution": {
     "iopub.execute_input": "2024-11-16T04:06:54.773826Z",
     "iopub.status.busy": "2024-11-16T04:06:54.772910Z",
     "iopub.status.idle": "2024-11-16T04:06:54.778116Z",
     "shell.execute_reply": "2024-11-16T04:06:54.777124Z"
    },
    "id": "437168bc6b6e",
    "papermill": {
     "duration": 0.018271,
     "end_time": "2024-11-16T04:06:54.780367",
     "exception": false,
     "start_time": "2024-11-16T04:06:54.762096",
     "status": "completed"
    },
    "tags": []
   },
   "outputs": [],
   "source": [
    "import sqlite3\n",
    "\n",
    "db_file = \"sample.db\"\n",
    "db_conn = sqlite3.connect(db_file)"
   ]
  },
  {
   "cell_type": "markdown",
   "id": "6e35de1e",
   "metadata": {
    "id": "b68b1a2c37d9",
    "papermill": {
     "duration": 0.009479,
     "end_time": "2024-11-16T04:06:54.799915",
     "exception": false,
     "start_time": "2024-11-16T04:06:54.790436",
     "status": "completed"
    },
    "tags": []
   },
   "source": [
    "The first function will list all tables available in the database. Define it, and test it out to ensure it works."
   ]
  },
  {
   "cell_type": "code",
   "execution_count": 8,
   "id": "fd1ce246",
   "metadata": {
    "execution": {
     "iopub.execute_input": "2024-11-16T04:06:54.821596Z",
     "iopub.status.busy": "2024-11-16T04:06:54.821150Z",
     "iopub.status.idle": "2024-11-16T04:06:54.831967Z",
     "shell.execute_reply": "2024-11-16T04:06:54.830839Z"
    },
    "id": "bdb0e4d2bb4b",
    "papermill": {
     "duration": 0.024507,
     "end_time": "2024-11-16T04:06:54.834155",
     "exception": false,
     "start_time": "2024-11-16T04:06:54.809648",
     "status": "completed"
    },
    "tags": []
   },
   "outputs": [
    {
     "name": "stdout",
     "output_type": "stream",
     "text": [
      " - DB CALL: list_tables\n"
     ]
    },
    {
     "data": {
      "text/plain": [
       "['products', 'sqlite_sequence', 'staff', 'orders']"
      ]
     },
     "execution_count": 8,
     "metadata": {},
     "output_type": "execute_result"
    }
   ],
   "source": [
    "def list_tables() -> list[str]:\n",
    "    \"\"\"Retrieve the names of all tables in the database.\"\"\"\n",
    "    # Include print logging statements so you can see when functions are being called.\n",
    "    print(' - DB CALL: list_tables')\n",
    "\n",
    "    cursor = db_conn.cursor()\n",
    "\n",
    "    # Fetch the table names.\n",
    "    cursor.execute(\"SELECT name FROM sqlite_master WHERE type='table';\")\n",
    "\n",
    "    tables = cursor.fetchall()\n",
    "    return [t[0] for t in tables]\n",
    "\n",
    "\n",
    "list_tables()"
   ]
  },
  {
   "cell_type": "markdown",
   "id": "ac743159",
   "metadata": {
    "id": "b6c010b1b6c2",
    "papermill": {
     "duration": 0.009848,
     "end_time": "2024-11-16T04:06:54.854042",
     "exception": false,
     "start_time": "2024-11-16T04:06:54.844194",
     "status": "completed"
    },
    "tags": []
   },
   "source": [
    "Once the available tables is known, the next step a database user will need is to understand what columns are available in a given table. Define that too, and test that it works as expected."
   ]
  },
  {
   "cell_type": "code",
   "execution_count": 9,
   "id": "4ee82736",
   "metadata": {
    "execution": {
     "iopub.execute_input": "2024-11-16T04:06:54.875911Z",
     "iopub.status.busy": "2024-11-16T04:06:54.874918Z",
     "iopub.status.idle": "2024-11-16T04:06:54.885231Z",
     "shell.execute_reply": "2024-11-16T04:06:54.884199Z"
    },
    "id": "ecdb109298c4",
    "papermill": {
     "duration": 0.023964,
     "end_time": "2024-11-16T04:06:54.887719",
     "exception": false,
     "start_time": "2024-11-16T04:06:54.863755",
     "status": "completed"
    },
    "tags": []
   },
   "outputs": [
    {
     "name": "stdout",
     "output_type": "stream",
     "text": [
      " - DB CALL: describe_table\n"
     ]
    },
    {
     "data": {
      "text/plain": [
       "[('product_id', 'INTEGER'),\n",
       " ('product_name', 'VARCHAR(255)'),\n",
       " ('price', 'DECIMAL(10, 2)')]"
      ]
     },
     "execution_count": 9,
     "metadata": {},
     "output_type": "execute_result"
    }
   ],
   "source": [
    "def describe_table(table_name: str) -> list[tuple[str, str]]:\n",
    "    \"\"\"Look up the table schema.\n",
    "\n",
    "    Returns:\n",
    "      List of columns, where each entry is a tuple of (column, type).\n",
    "    \"\"\"\n",
    "    print(' - DB CALL: describe_table')\n",
    "\n",
    "    cursor = db_conn.cursor()\n",
    "\n",
    "    cursor.execute(f\"PRAGMA table_info({table_name});\")\n",
    "\n",
    "    schema = cursor.fetchall()\n",
    "    # [column index, column name, column type, ...]\n",
    "    return [(col[1], col[2]) for col in schema]\n",
    "\n",
    "\n",
    "describe_table(\"products\")"
   ]
  },
  {
   "cell_type": "markdown",
   "id": "30fcc6e3",
   "metadata": {
    "id": "f6053a2ca272",
    "papermill": {
     "duration": 0.009715,
     "end_time": "2024-11-16T04:06:54.908015",
     "exception": false,
     "start_time": "2024-11-16T04:06:54.898300",
     "status": "completed"
    },
    "tags": []
   },
   "source": [
    "Now that the system knows what tables and columns are present, it has enough information to be able to generate and run a `SELECT` query. Now provide that functionality, and test that it works."
   ]
  },
  {
   "cell_type": "code",
   "execution_count": 10,
   "id": "fdaae895",
   "metadata": {
    "execution": {
     "iopub.execute_input": "2024-11-16T04:06:54.930225Z",
     "iopub.status.busy": "2024-11-16T04:06:54.929476Z",
     "iopub.status.idle": "2024-11-16T04:06:54.938542Z",
     "shell.execute_reply": "2024-11-16T04:06:54.937646Z"
    },
    "id": "9e405db8b3f6",
    "papermill": {
     "duration": 0.022547,
     "end_time": "2024-11-16T04:06:54.940708",
     "exception": false,
     "start_time": "2024-11-16T04:06:54.918161",
     "status": "completed"
    },
    "tags": []
   },
   "outputs": [
    {
     "name": "stdout",
     "output_type": "stream",
     "text": [
      " - DB CALL: execute_query\n"
     ]
    },
    {
     "data": {
      "text/plain": [
       "[(1, 'Laptop', 799.99), (2, 'Keyboard', 129.99), (3, 'Mouse', 29.99)]"
      ]
     },
     "execution_count": 10,
     "metadata": {},
     "output_type": "execute_result"
    }
   ],
   "source": [
    "def execute_query(sql: str) -> list[list[str]]:\n",
    "    \"\"\"Execute a SELECT statement, returning the results.\"\"\"\n",
    "    print(' - DB CALL: execute_query')\n",
    "\n",
    "    cursor = db_conn.cursor()\n",
    "\n",
    "    cursor.execute(sql)\n",
    "    return cursor.fetchall()\n",
    "\n",
    "\n",
    "execute_query(\"select * from products\")"
   ]
  },
  {
   "cell_type": "markdown",
   "id": "e5c5af96",
   "metadata": {
    "id": "ac464dfb35a0",
    "papermill": {
     "duration": 0.010177,
     "end_time": "2024-11-16T04:06:54.961158",
     "exception": false,
     "start_time": "2024-11-16T04:06:54.950981",
     "status": "completed"
    },
    "tags": []
   },
   "source": [
    "## Implement function calls\n",
    "\n",
    "Now you can put it all together in a call to the Gemini API.\n",
    "\n",
    "Function calling works by adding specific messages to a chat session. When function schemas are defined and made available to the model and a conversation is started, instead of returning a text response, the model may return a `function_call` instead. When this happens, the client must respond with a `function_response`, indicating the result of the call, and the conversation can continue on as normal.\n",
    "\n",
    "This function calling interaction normally happens manually, allowing you, the client, to validate and initiate the call. However the Python SDK also supports **automatic function calling**, where the supplied functions will be automatically invoked. This is a powerful feature and should only be exposed when it is safe to do so, such as when the functions have no [side-effects](https://en.wikipedia.org/wiki/Side_effect_(computer_science)).\n",
    "\n",
    "Here's the state diagram representing the conversation flow with function calling. With automatic function calling, the bottom row is executed automatically by the Python SDK. In manual function calling, you write the code to run each step individually.\n",
    "\n",
    "![function calling state diagram](https://codelabs.developers.google.com/static/codelabs/gemini-function-calling/img/gemini-function-calling-overview_1440.png)"
   ]
  },
  {
   "cell_type": "code",
   "execution_count": 11,
   "id": "09e33407",
   "metadata": {
    "execution": {
     "iopub.execute_input": "2024-11-16T04:06:54.984564Z",
     "iopub.status.busy": "2024-11-16T04:06:54.983596Z",
     "iopub.status.idle": "2024-11-16T04:06:55.165078Z",
     "shell.execute_reply": "2024-11-16T04:06:55.163910Z"
    },
    "id": "f4839540066d",
    "papermill": {
     "duration": 0.196312,
     "end_time": "2024-11-16T04:06:55.167900",
     "exception": false,
     "start_time": "2024-11-16T04:06:54.971588",
     "status": "completed"
    },
    "tags": []
   },
   "outputs": [],
   "source": [
    "# These are the Python functions defined above.\n",
    "db_tools = [list_tables, describe_table, execute_query]\n",
    "\n",
    "instruction = \"\"\"You are a helpful chatbot that can interact with an SQL database for a computer\n",
    "store. You will take the users questions and turn them into SQL queries using the tools\n",
    "available. Once you have the information you need, you will answer the user's question using\n",
    "the data returned. Use list_tables to see what tables are present, describe_table to understand\n",
    "the schema, and execute_query to issue an SQL SELECT query.\"\"\"\n",
    "\n",
    "model = genai.GenerativeModel(\n",
    "    \"models/gemini-1.5-flash-latest\", tools=db_tools, system_instruction=instruction\n",
    ")\n",
    "\n",
    "# Define a retry policy. The model might make multiple consecutive calls automatically\n",
    "# for a complex query, this ensures the client retries if it hits quota limits.\n",
    "from google.api_core import retry\n",
    "\n",
    "retry_policy = {\"retry\": retry.Retry(predicate=retry.if_transient_error)}\n",
    "\n",
    "# Start a chat with automatic function calling enabled.\n",
    "chat = model.start_chat(enable_automatic_function_calling=True)"
   ]
  },
  {
   "cell_type": "markdown",
   "id": "dade0865",
   "metadata": {
    "id": "5f120977f1ee",
    "papermill": {
     "duration": 0.01034,
     "end_time": "2024-11-16T04:06:55.188928",
     "exception": false,
     "start_time": "2024-11-16T04:06:55.178588",
     "status": "completed"
    },
    "tags": []
   },
   "source": [
    "Now you can engage in a chat conversation where you can ask about the contents of the database."
   ]
  },
  {
   "cell_type": "code",
   "execution_count": 12,
   "id": "fcee8147",
   "metadata": {
    "execution": {
     "iopub.execute_input": "2024-11-16T04:06:55.212283Z",
     "iopub.status.busy": "2024-11-16T04:06:55.211335Z",
     "iopub.status.idle": "2024-11-16T04:11:22.810763Z",
     "shell.execute_reply": "2024-11-16T04:11:22.809457Z"
    },
    "id": "111cfb79338b",
    "papermill": {
     "duration": 267.624063,
     "end_time": "2024-11-16T04:11:22.823680",
     "exception": false,
     "start_time": "2024-11-16T04:06:55.199617",
     "status": "completed"
    },
    "tags": []
   },
   "outputs": [
    {
     "name": "stdout",
     "output_type": "stream",
     "text": [
      " - DB CALL: list_tables\n",
      " - DB CALL: describe_table\n",
      " - DB CALL: execute_query\n",
      "The cheapest product is the Mouse, which costs $29.99.\n"
     ]
    }
   ],
   "source": [
    "resp = chat.send_message(\"What is the cheapest product?\", request_options=retry_policy)\n",
    "print(resp.text)"
   ]
  },
  {
   "cell_type": "markdown",
   "id": "aa3c1dfe",
   "metadata": {
    "id": "43595d4ef920",
    "papermill": {
     "duration": 0.01064,
     "end_time": "2024-11-16T04:11:22.845272",
     "exception": false,
     "start_time": "2024-11-16T04:11:22.834632",
     "status": "completed"
    },
    "tags": []
   },
   "source": [
    "If you re-use the same [`ChatSession`](https://github.com/google-gemini/generative-ai-python/blob/main/docs/api/google/generativeai/ChatSession.md) object, the conversation will continue statefully. If you wish to start fresh, you can call [`start_chat`](https://github.com/google-gemini/generative-ai-python/blob/main/docs/api/google/generativeai/GenerativeModel.md#start_chat) again, or call [`rewind`](https://github.com/google-gemini/generative-ai-python/blob/main/docs/api/google/generativeai/ChatSession.md#rewind) on the chat object to go back a turn.\n",
    "\n",
    "Continue the chat here by asking a follow-up question. Note that the database information is preserved, and the context of the specific product is inferred."
   ]
  },
  {
   "cell_type": "code",
   "execution_count": 13,
   "id": "e28fb7f9",
   "metadata": {
    "execution": {
     "iopub.execute_input": "2024-11-16T04:11:22.869325Z",
     "iopub.status.busy": "2024-11-16T04:11:22.868896Z",
     "iopub.status.idle": "2024-11-16T04:11:44.747133Z",
     "shell.execute_reply": "2024-11-16T04:11:44.745801Z"
    },
    "id": "647cbcc43993",
    "papermill": {
     "duration": 21.893426,
     "end_time": "2024-11-16T04:11:44.749897",
     "exception": false,
     "start_time": "2024-11-16T04:11:22.856471",
     "status": "completed"
    },
    "tags": []
   },
   "outputs": [
    {
     "name": "stdout",
     "output_type": "stream",
     "text": [
      "The Mouse costs $29.99.\n",
      "\n"
     ]
    }
   ],
   "source": [
    "resp = chat.send_message(\"and how much is it?\", request_options=retry_policy)\n",
    "print(resp.text)"
   ]
  },
  {
   "cell_type": "markdown",
   "id": "c0781198",
   "metadata": {
    "id": "d67f635191c8",
    "papermill": {
     "duration": 0.013069,
     "end_time": "2024-11-16T04:11:44.774724",
     "exception": false,
     "start_time": "2024-11-16T04:11:44.761655",
     "status": "completed"
    },
    "tags": []
   },
   "source": [
    "Explore the chat session and ask your own questions. If you want to try asking more complex questions, try using the `gemini-1.5-pro` model. It has a lower rate limit, so calls might take a bit longer on the free tier, but you'll notice an improvement in expressivity."
   ]
  },
  {
   "cell_type": "code",
   "execution_count": 14,
   "id": "debd3752",
   "metadata": {
    "execution": {
     "iopub.execute_input": "2024-11-16T04:11:44.799874Z",
     "iopub.status.busy": "2024-11-16T04:11:44.799455Z",
     "iopub.status.idle": "2024-11-16T04:13:00.366102Z",
     "shell.execute_reply": "2024-11-16T04:13:00.365014Z"
    },
    "id": "647cbcc43993",
    "papermill": {
     "duration": 75.594033,
     "end_time": "2024-11-16T04:13:00.380310",
     "exception": false,
     "start_time": "2024-11-16T04:11:44.786277",
     "status": "completed"
    },
    "tags": []
   },
   "outputs": [
    {
     "name": "stdout",
     "output_type": "stream",
     "text": [
      " - DB CALL: list_tables\n",
      " - DB CALL: describe_table\n",
      " - DB CALL: describe_table\n",
      " - DB CALL: describe_table\n",
      " - DB CALL: execute_query\n",
      "Alice Smith sold the cheapest product.\n"
     ]
    }
   ],
   "source": [
    "model = genai.GenerativeModel(\n",
    "    \"models/gemini-1.5-pro-latest\", tools=db_tools, system_instruction=instruction\n",
    ")\n",
    "\n",
    "chat = model.start_chat(enable_automatic_function_calling=True)\n",
    "response = chat.send_message('Which salesperson sold the cheapest product?', request_options=retry_policy)\n",
    "print(response.text)"
   ]
  },
  {
   "cell_type": "markdown",
   "id": "aaa047cd",
   "metadata": {
    "id": "1f5bb6d9bd6a",
    "papermill": {
     "duration": 0.01155,
     "end_time": "2024-11-16T04:13:00.403518",
     "exception": false,
     "start_time": "2024-11-16T04:13:00.391968",
     "status": "completed"
    },
    "tags": []
   },
   "source": [
    "### Inspecting the conversation\n",
    "\n",
    "To see the calls that the model makes, and what the client returns in response, you can inspect `chat.history`. This helper function will print out each turn along with the relevant fields passed or returned."
   ]
  },
  {
   "cell_type": "code",
   "execution_count": 15,
   "id": "972e9850",
   "metadata": {
    "execution": {
     "iopub.execute_input": "2024-11-16T04:13:00.429429Z",
     "iopub.status.busy": "2024-11-16T04:13:00.428574Z",
     "iopub.status.idle": "2024-11-16T04:13:00.440100Z",
     "shell.execute_reply": "2024-11-16T04:13:00.439075Z"
    },
    "id": "639963cc64e2",
    "papermill": {
     "duration": 0.028491,
     "end_time": "2024-11-16T04:13:00.443892",
     "exception": false,
     "start_time": "2024-11-16T04:13:00.415401",
     "status": "completed"
    },
    "tags": []
   },
   "outputs": [
    {
     "name": "stdout",
     "output_type": "stream",
     "text": [
      "User:\n",
      "  \"Which salesperson sold the cheapest product?\"\n",
      "\n",
      "Model:\n",
      "  Function call: list_tables()\n",
      "\n",
      "User:\n",
      "  Function response:\n",
      "    name: \"list_tables\"\n",
      "    response {\n",
      "      fields {\n",
      "        key: \"result\"\n",
      "        value {\n",
      "          list_value {\n",
      "            values {\n",
      "              string_value: \"products\"\n",
      "            }\n",
      "            values {\n",
      "              string_value: \"sqlite_sequence\"\n",
      "            }\n",
      "            values {\n",
      "              string_value: \"staff\"\n",
      "            }\n",
      "            values {\n",
      "              string_value: \"orders\"\n",
      "            }\n",
      "          }\n",
      "        }\n",
      "      }\n",
      "    }\n",
      "\n",
      "\n",
      "Model:\n",
      "  Function call: describe_table(table_name=products)\n",
      "\n",
      "User:\n",
      "  Function response:\n",
      "    name: \"describe_table\"\n",
      "    response {\n",
      "      fields {\n",
      "        key: \"result\"\n",
      "        value {\n",
      "          list_value {\n",
      "            values {\n",
      "              list_value {\n",
      "                values {\n",
      "                  string_value: \"product_id\"\n",
      "                }\n",
      "                values {\n",
      "                  string_value: \"INTEGER\"\n",
      "                }\n",
      "              }\n",
      "            }\n",
      "            values {\n",
      "              list_value {\n",
      "                values {\n",
      "                  string_value: \"product_name\"\n",
      "                }\n",
      "                values {\n",
      "                  string_value: \"VARCHAR(255)\"\n",
      "                }\n",
      "              }\n",
      "            }\n",
      "            values {\n",
      "              list_value {\n",
      "                values {\n",
      "                  string_value: \"price\"\n",
      "                }\n",
      "                values {\n",
      "                  string_value: \"DECIMAL(10, 2)\"\n",
      "                }\n",
      "              }\n",
      "            }\n",
      "          }\n",
      "        }\n",
      "      }\n",
      "    }\n",
      "\n",
      "\n",
      "Model:\n",
      "  Function call: describe_table(table_name=staff)\n",
      "\n",
      "User:\n",
      "  Function response:\n",
      "    name: \"describe_table\"\n",
      "    response {\n",
      "      fields {\n",
      "        key: \"result\"\n",
      "        value {\n",
      "          list_value {\n",
      "            values {\n",
      "              list_value {\n",
      "                values {\n",
      "                  string_value: \"staff_id\"\n",
      "                }\n",
      "                values {\n",
      "                  string_value: \"INTEGER\"\n",
      "                }\n",
      "              }\n",
      "            }\n",
      "            values {\n",
      "              list_value {\n",
      "                values {\n",
      "                  string_value: \"first_name\"\n",
      "                }\n",
      "                values {\n",
      "                  string_value: \"VARCHAR(255)\"\n",
      "                }\n",
      "              }\n",
      "            }\n",
      "            values {\n",
      "              list_value {\n",
      "                values {\n",
      "                  string_value: \"last_name\"\n",
      "                }\n",
      "                values {\n",
      "                  string_value: \"VARCHAR(255)\"\n",
      "                }\n",
      "              }\n",
      "            }\n",
      "          }\n",
      "        }\n",
      "      }\n",
      "    }\n",
      "\n",
      "\n",
      "Model:\n",
      "  Function call: describe_table(table_name=orders)\n",
      "\n",
      "User:\n",
      "  Function response:\n",
      "    name: \"describe_table\"\n",
      "    response {\n",
      "      fields {\n",
      "        key: \"result\"\n",
      "        value {\n",
      "          list_value {\n",
      "            values {\n",
      "              list_value {\n",
      "                values {\n",
      "                  string_value: \"order_id\"\n",
      "                }\n",
      "                values {\n",
      "                  string_value: \"INTEGER\"\n",
      "                }\n",
      "              }\n",
      "            }\n",
      "            values {\n",
      "              list_value {\n",
      "                values {\n",
      "                  string_value: \"customer_name\"\n",
      "                }\n",
      "                values {\n",
      "                  string_value: \"VARCHAR(255)\"\n",
      "                }\n",
      "              }\n",
      "            }\n",
      "            values {\n",
      "              list_value {\n",
      "                values {\n",
      "                  string_value: \"staff_id\"\n",
      "                }\n",
      "                values {\n",
      "                  string_value: \"INTEGER\"\n",
      "                }\n",
      "              }\n",
      "            }\n",
      "            values {\n",
      "              list_value {\n",
      "                values {\n",
      "                  string_value: \"product_id\"\n",
      "                }\n",
      "                values {\n",
      "                  string_value: \"INTEGER\"\n",
      "                }\n",
      "              }\n",
      "            }\n",
      "          }\n",
      "        }\n",
      "      }\n",
      "    }\n",
      "\n",
      "\n",
      "Model:\n",
      "  Function call: execute_query(sql=SELECT staff.first_name, staff.last_name FROM orders INNER JOIN products ON orders.product_id = products.product_id INNER JOIN staff ON orders.staff_id = staff.staff_id ORDER BY products.price ASC LIMIT 1)\n",
      "\n",
      "User:\n",
      "  Function response:\n",
      "    name: \"execute_query\"\n",
      "    response {\n",
      "      fields {\n",
      "        key: \"result\"\n",
      "        value {\n",
      "          list_value {\n",
      "            values {\n",
      "              list_value {\n",
      "                values {\n",
      "                  string_value: \"Alice\"\n",
      "                }\n",
      "                values {\n",
      "                  string_value: \"Smith\"\n",
      "                }\n",
      "              }\n",
      "            }\n",
      "          }\n",
      "        }\n",
      "      }\n",
      "    }\n",
      "\n",
      "\n",
      "Model:\n",
      "  \"Alice Smith sold the cheapest product.\"\n",
      "\n"
     ]
    }
   ],
   "source": [
    "import textwrap\n",
    "\n",
    "\n",
    "def print_chat_turns(chat):\n",
    "    \"\"\"Prints out each turn in the chat history, including function calls and responses.\"\"\"\n",
    "    for event in chat.history:\n",
    "        print(f\"{event.role.capitalize()}:\")\n",
    "\n",
    "        for part in event.parts:\n",
    "            if txt := part.text:\n",
    "                print(f'  \"{txt}\"')\n",
    "            elif fn := part.function_call:\n",
    "                args = \", \".join(f\"{key}={val}\" for key, val in fn.args.items())\n",
    "                print(f\"  Function call: {fn.name}({args})\")\n",
    "            elif resp := part.function_response:\n",
    "                print(\"  Function response:\")\n",
    "                print(textwrap.indent(str(resp), \"    \"))\n",
    "\n",
    "        print()\n",
    "\n",
    "\n",
    "print_chat_turns(chat)"
   ]
  },
  {
   "cell_type": "markdown",
   "id": "24cc76c3",
   "metadata": {
    "id": "8a17aeb2a3ef",
    "papermill": {
     "duration": 0.011966,
     "end_time": "2024-11-16T04:13:00.468009",
     "exception": false,
     "start_time": "2024-11-16T04:13:00.456043",
     "status": "completed"
    },
    "tags": []
   },
   "source": [
    "In this output you can see each of the conversational turns that were made. Note that the model doesn't remember anything outside of a `ChatSession` object, so you can make changes to the database structure or data and the model will respond without needing any code changes - try this out!"
   ]
  },
  {
   "cell_type": "markdown",
   "id": "9e4e7550",
   "metadata": {
    "id": "8a17aeb2a3ef",
    "papermill": {
     "duration": 0.011948,
     "end_time": "2024-11-16T04:13:00.492264",
     "exception": false,
     "start_time": "2024-11-16T04:13:00.480316",
     "status": "completed"
    },
    "tags": []
   },
   "source": [
    "## Further reading\n",
    "\n",
    "To learn more about what the Gemini API can do with function calling, check out the [Function calling cookbook](https://github.com/google-gemini/cookbook/blob/main/quickstarts/Function_calling.ipynb) (see `Manual function calling` to understand how function calling works manually) as well as [Function calling config](https://github.com/google-gemini/cookbook/blob/main/quickstarts/Function_calling_config.ipynb), which gives you fine-grained control over how function calling is triggered."
   ]
  }
 ],
 "metadata": {
  "colab": {
   "name": "day-3-function-calling-with-the-gemini-api.ipynb",
   "toc_visible": true
  },
  "kaggle": {
   "accelerator": "none",
   "dataSources": [],
   "dockerImageVersionId": 30786,
   "isGpuEnabled": false,
   "isInternetEnabled": true,
   "language": "python",
   "sourceType": "notebook"
  },
  "kernelspec": {
   "display_name": "Python 3",
   "language": "python",
   "name": "python3"
  },
  "language_info": {
   "codemirror_mode": {
    "name": "ipython",
    "version": 3
   },
   "file_extension": ".py",
   "mimetype": "text/x-python",
   "name": "python",
   "nbconvert_exporter": "python",
   "pygments_lexer": "ipython3",
   "version": "3.10.14"
  },
  "papermill": {
   "default_parameters": {},
   "duration": 406.00582,
   "end_time": "2024-11-16T04:13:01.326661",
   "environment_variables": {},
   "exception": null,
   "input_path": "__notebook__.ipynb",
   "output_path": "__notebook__.ipynb",
   "parameters": {},
   "start_time": "2024-11-16T04:06:15.320841",
   "version": "2.6.0"
  }
 },
 "nbformat": 4,
 "nbformat_minor": 5
}
