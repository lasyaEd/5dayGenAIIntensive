{
 "cells": [
  {
   "cell_type": "markdown",
   "id": "c20a1be7",
   "metadata": {
    "id": "b6e13eef3f5d",
    "papermill": {
     "duration": 0.010175,
     "end_time": "2024-11-16T05:11:30.751751",
     "exception": false,
     "start_time": "2024-11-16T05:11:30.741576",
     "status": "completed"
    },
    "tags": []
   },
   "source": [
    "##### Copyright 2024 Google LLC."
   ]
  },
  {
   "cell_type": "code",
   "execution_count": 1,
   "id": "5053ffdd",
   "metadata": {
    "cellView": "form",
    "execution": {
     "iopub.execute_input": "2024-11-16T05:11:30.772847Z",
     "iopub.status.busy": "2024-11-16T05:11:30.772304Z",
     "iopub.status.idle": "2024-11-16T05:11:30.779061Z",
     "shell.execute_reply": "2024-11-16T05:11:30.777900Z"
    },
    "id": "d6597b11df14",
    "jupyter": {
     "source_hidden": true
    },
    "papermill": {
     "duration": 0.02013,
     "end_time": "2024-11-16T05:11:30.781778",
     "exception": false,
     "start_time": "2024-11-16T05:11:30.761648",
     "status": "completed"
    },
    "tags": []
   },
   "outputs": [],
   "source": [
    "# @title Licensed under the Apache License, Version 2.0 (the \"License\");\n",
    "# you may not use this file except in compliance with the License.\n",
    "# You may obtain a copy of the License at\n",
    "#\n",
    "# https://www.apache.org/licenses/LICENSE-2.0\n",
    "#\n",
    "# Unless required by applicable law or agreed to in writing, software\n",
    "# distributed under the License is distributed on an \"AS IS\" BASIS,\n",
    "# WITHOUT WARRANTIES OR CONDITIONS OF ANY KIND, either express or implied.\n",
    "# See the License for the specific language governing permissions and\n",
    "# limitations under the License."
   ]
  },
  {
   "cell_type": "markdown",
   "id": "31c3e9b2",
   "metadata": {
    "id": "4KDIFPAL2EnL",
    "papermill": {
     "duration": 0.008839,
     "end_time": "2024-11-16T05:11:30.800796",
     "exception": false,
     "start_time": "2024-11-16T05:11:30.791957",
     "status": "completed"
    },
    "tags": []
   },
   "source": [
    "# Day 4 - Fine tuning a custom model\n",
    "\n",
    "Welcome back to the Kaggle 5-day Generative AI course!\n",
    "\n",
    "In this notebook you will use the Gemini API to fine-tune a custom, task-specific model. Fine-tuning can be used for a variety of tasks from classic NLP problems like entity extraction or summarisation, to creative tasks like stylised generation. You will fine-tune a model to classify the category a piece of text (a newsgroup post) into the category it belongs to (the newsgroup name).\n",
    "\n",
    "This codelab walks you tuning a model with the API. [AI Studio](https://aistudio.google.com/app/tune) also supports creating new tuned models directly in the web UI, allowing you to quickly create and monitor models using data from Google Sheets, Drive or your own files."
   ]
  },
  {
   "cell_type": "code",
   "execution_count": 2,
   "id": "f869cbcc",
   "metadata": {
    "execution": {
     "iopub.execute_input": "2024-11-16T05:11:30.820657Z",
     "iopub.status.busy": "2024-11-16T05:11:30.820241Z",
     "iopub.status.idle": "2024-11-16T05:11:59.744301Z",
     "shell.execute_reply": "2024-11-16T05:11:59.742837Z"
    },
    "id": "9wafTyEH1_xF",
    "papermill": {
     "duration": 28.936965,
     "end_time": "2024-11-16T05:11:59.746886",
     "exception": false,
     "start_time": "2024-11-16T05:11:30.809921",
     "status": "completed"
    },
    "tags": []
   },
   "outputs": [
    {
     "name": "stdout",
     "output_type": "stream",
     "text": [
      "Note: you may need to restart the kernel to use updated packages.\n"
     ]
    }
   ],
   "source": [
    "%pip install -U -q 'google-generativeai>=0.8.3'"
   ]
  },
  {
   "cell_type": "markdown",
   "id": "2c3334c4",
   "metadata": {
    "papermill": {
     "duration": 0.008941,
     "end_time": "2024-11-16T05:11:59.765340",
     "exception": false,
     "start_time": "2024-11-16T05:11:59.756399",
     "status": "completed"
    },
    "tags": []
   },
   "source": [
    "Note that you do not have to restart the kernel."
   ]
  },
  {
   "cell_type": "code",
   "execution_count": 3,
   "id": "78546534",
   "metadata": {
    "execution": {
     "iopub.execute_input": "2024-11-16T05:11:59.786125Z",
     "iopub.status.busy": "2024-11-16T05:11:59.785689Z",
     "iopub.status.idle": "2024-11-16T05:12:00.906183Z",
     "shell.execute_reply": "2024-11-16T05:12:00.904934Z"
    },
    "id": "T0CBG9xL2PvT",
    "papermill": {
     "duration": 1.13409,
     "end_time": "2024-11-16T05:12:00.908957",
     "exception": false,
     "start_time": "2024-11-16T05:11:59.774867",
     "status": "completed"
    },
    "tags": []
   },
   "outputs": [],
   "source": [
    "import google.generativeai as genai"
   ]
  },
  {
   "cell_type": "markdown",
   "id": "ec68e7b5",
   "metadata": {
    "id": "P4bYX2T72ScK",
    "papermill": {
     "duration": 0.009267,
     "end_time": "2024-11-16T05:12:00.927480",
     "exception": false,
     "start_time": "2024-11-16T05:12:00.918213",
     "status": "completed"
    },
    "tags": []
   },
   "source": [
    "### Set up your API key\n",
    "\n",
    "To run the following cell, your API key must be stored it in a [Kaggle secret](https://www.kaggle.com/discussions/product-feedback/114053) named `GOOGLE_API_KEY`.\n",
    "\n",
    "If you don't already have an API key, you can grab one from [AI Studio](https://aistudio.google.com/app/apikey). You can find [detailed instructions in the docs](https://ai.google.dev/gemini-api/docs/api-key).\n",
    "\n",
    "To make the key available through Kaggle secrets, choose `Secrets` from the `Add-ons` menu and follow the instructions to add your key or enable it for this notebook."
   ]
  },
  {
   "cell_type": "code",
   "execution_count": 4,
   "id": "a816b707",
   "metadata": {
    "execution": {
     "iopub.execute_input": "2024-11-16T05:12:00.948819Z",
     "iopub.status.busy": "2024-11-16T05:12:00.947951Z",
     "iopub.status.idle": "2024-11-16T05:12:01.130452Z",
     "shell.execute_reply": "2024-11-16T05:12:01.129445Z"
    },
    "id": "VuJPY3GK2SLZ",
    "papermill": {
     "duration": 0.196054,
     "end_time": "2024-11-16T05:12:01.133098",
     "exception": false,
     "start_time": "2024-11-16T05:12:00.937044",
     "status": "completed"
    },
    "tags": []
   },
   "outputs": [],
   "source": [
    "from kaggle_secrets import UserSecretsClient\n",
    "\n",
    "GOOGLE_API_KEY = UserSecretsClient().get_secret(\"GOOGLE_API_KEY\")\n",
    "genai.configure(api_key=GOOGLE_API_KEY)"
   ]
  },
  {
   "cell_type": "markdown",
   "id": "69482b01",
   "metadata": {
    "id": "25b2127c2052",
    "papermill": {
     "duration": 0.009287,
     "end_time": "2024-11-16T05:12:01.151642",
     "exception": false,
     "start_time": "2024-11-16T05:12:01.142355",
     "status": "completed"
    },
    "tags": []
   },
   "source": [
    "If you received an error response along the lines of `No user secrets exist for kernel id ...`, then you need to add your API key via `Add-ons`, `Secrets` **and** enable it.\n",
    "\n",
    "![Screenshot of the checkbox to enable GOOGLE_API_KEY secret](https://storage.googleapis.com/kaggle-media/Images/5gdai_sc_3.png)"
   ]
  },
  {
   "cell_type": "markdown",
   "id": "1aa2e366",
   "metadata": {
    "id": "CqVA5QFO6n4z",
    "papermill": {
     "duration": 0.008966,
     "end_time": "2024-11-16T05:12:01.170440",
     "exception": false,
     "start_time": "2024-11-16T05:12:01.161474",
     "status": "completed"
    },
    "tags": []
   },
   "source": [
    "### Explore available models\n",
    "\n",
    "You will be using the [`TunedModel.create`](https://ai.google.dev/api/tuning#method:-tunedmodels.create) API method to start the fine-tuning job and create your custom model. Find a model that supports it through the [`models.list`](https://ai.google.dev/api/models#method:-models.list) endpoint. You can also find more information about tuning models in [the model tuning docs](https://ai.google.dev/gemini-api/docs/model-tuning/tutorial?lang=python)."
   ]
  },
  {
   "cell_type": "code",
   "execution_count": 5,
   "id": "e706bbb1",
   "metadata": {
    "execution": {
     "iopub.execute_input": "2024-11-16T05:12:01.192198Z",
     "iopub.status.busy": "2024-11-16T05:12:01.191794Z",
     "iopub.status.idle": "2024-11-16T05:12:01.456637Z",
     "shell.execute_reply": "2024-11-16T05:12:01.455270Z"
    },
    "id": "coEacWAB6o0G",
    "papermill": {
     "duration": 0.278157,
     "end_time": "2024-11-16T05:12:01.459175",
     "exception": false,
     "start_time": "2024-11-16T05:12:01.181018",
     "status": "completed"
    },
    "tags": []
   },
   "outputs": [
    {
     "name": "stdout",
     "output_type": "stream",
     "text": [
      "models/gemini-1.0-pro-001\n",
      "models/gemini-1.5-flash-001-tuning\n"
     ]
    }
   ],
   "source": [
    "for model in genai.list_models():\n",
    "    if \"createTunedModel\" in model.supported_generation_methods:\n",
    "        print(model.name)"
   ]
  },
  {
   "cell_type": "markdown",
   "id": "d4b44680",
   "metadata": {
    "id": "peFm0w_0c1CO",
    "papermill": {
     "duration": 0.009021,
     "end_time": "2024-11-16T05:12:01.477475",
     "exception": false,
     "start_time": "2024-11-16T05:12:01.468454",
     "status": "completed"
    },
    "tags": []
   },
   "source": [
    "## Download the dataset\n",
    "\n",
    "In this activity, you will use the same newsgroups dataset that you used to train a classifier in Keras. In this example you will use a fine-tuned Gemini model to achieve the same goal.\n",
    "\n",
    "The [20 Newsgroups Text Dataset](https://scikit-learn.org/0.19/datasets/twenty_newsgroups.html) contains 18,000 newsgroups posts on 20 topics divided into training and test sets."
   ]
  },
  {
   "cell_type": "code",
   "execution_count": 6,
   "id": "2b167423",
   "metadata": {
    "execution": {
     "iopub.execute_input": "2024-11-16T05:12:01.498315Z",
     "iopub.status.busy": "2024-11-16T05:12:01.497882Z",
     "iopub.status.idle": "2024-11-16T05:12:12.228759Z",
     "shell.execute_reply": "2024-11-16T05:12:12.227449Z"
    },
    "id": "bX_kpgnQ9b-Z",
    "papermill": {
     "duration": 10.744537,
     "end_time": "2024-11-16T05:12:12.231302",
     "exception": false,
     "start_time": "2024-11-16T05:12:01.486765",
     "status": "completed"
    },
    "tags": []
   },
   "outputs": [
    {
     "data": {
      "text/plain": [
       "['alt.atheism',\n",
       " 'comp.graphics',\n",
       " 'comp.os.ms-windows.misc',\n",
       " 'comp.sys.ibm.pc.hardware',\n",
       " 'comp.sys.mac.hardware',\n",
       " 'comp.windows.x',\n",
       " 'misc.forsale',\n",
       " 'rec.autos',\n",
       " 'rec.motorcycles',\n",
       " 'rec.sport.baseball',\n",
       " 'rec.sport.hockey',\n",
       " 'sci.crypt',\n",
       " 'sci.electronics',\n",
       " 'sci.med',\n",
       " 'sci.space',\n",
       " 'soc.religion.christian',\n",
       " 'talk.politics.guns',\n",
       " 'talk.politics.mideast',\n",
       " 'talk.politics.misc',\n",
       " 'talk.religion.misc']"
      ]
     },
     "execution_count": 6,
     "metadata": {},
     "output_type": "execute_result"
    }
   ],
   "source": [
    "from sklearn.datasets import fetch_20newsgroups\n",
    "\n",
    "newsgroups_train = fetch_20newsgroups(subset=\"train\")\n",
    "newsgroups_test = fetch_20newsgroups(subset=\"test\")\n",
    "\n",
    "# View list of class names for dataset\n",
    "newsgroups_train.target_names"
   ]
  },
  {
   "cell_type": "markdown",
   "id": "1eca356d",
   "metadata": {
    "id": "ipafe6ptZFjt",
    "papermill": {
     "duration": 0.009182,
     "end_time": "2024-11-16T05:12:12.249993",
     "exception": false,
     "start_time": "2024-11-16T05:12:12.240811",
     "status": "completed"
    },
    "tags": []
   },
   "source": [
    "Here's what a single row looks like."
   ]
  },
  {
   "cell_type": "code",
   "execution_count": 7,
   "id": "67760e2b",
   "metadata": {
    "execution": {
     "iopub.execute_input": "2024-11-16T05:12:12.271154Z",
     "iopub.status.busy": "2024-11-16T05:12:12.270740Z",
     "iopub.status.idle": "2024-11-16T05:12:12.276577Z",
     "shell.execute_reply": "2024-11-16T05:12:12.275445Z"
    },
    "id": "EtEXcdT39hCB",
    "papermill": {
     "duration": 0.019931,
     "end_time": "2024-11-16T05:12:12.279602",
     "exception": false,
     "start_time": "2024-11-16T05:12:12.259671",
     "status": "completed"
    },
    "tags": []
   },
   "outputs": [
    {
     "name": "stdout",
     "output_type": "stream",
     "text": [
      "From: lerxst@wam.umd.edu (where's my thing)\n",
      "Subject: WHAT car is this!?\n",
      "Nntp-Posting-Host: rac3.wam.umd.edu\n",
      "Organization: University of Maryland, College Park\n",
      "Lines: 15\n",
      "\n",
      " I was wondering if anyone out there could enlighten me on this car I saw\n",
      "the other day. It was a 2-door sports car, looked to be from the late 60s/\n",
      "early 70s. It was called a Bricklin. The doors were really small. In addition,\n",
      "the front bumper was separate from the rest of the body. This is \n",
      "all I know. If anyone can tellme a model name, engine specs, years\n",
      "of production, where this car is made, history, or whatever info you\n",
      "have on this funky looking car, please e-mail.\n",
      "\n",
      "Thanks,\n",
      "- IL\n",
      "   ---- brought to you by your neighborhood Lerxst ----\n",
      "\n",
      "\n",
      "\n",
      "\n",
      "\n"
     ]
    }
   ],
   "source": [
    "print(newsgroups_train.data[0])"
   ]
  },
  {
   "cell_type": "markdown",
   "id": "8ce2d566",
   "metadata": {
    "id": "03lDs1O4ZQ0-",
    "papermill": {
     "duration": 0.014316,
     "end_time": "2024-11-16T05:12:12.308722",
     "exception": false,
     "start_time": "2024-11-16T05:12:12.294406",
     "status": "completed"
    },
    "tags": []
   },
   "source": [
    "## Prepare the dataset\n",
    "\n",
    "You'll use the same pre-processing code you used for the custom model on day 2. This pre-processing removes personal information, which can be used to \"shortcut\" to known users of a forum, and formats the text to appear a bit more like regular text and less like a newsgroup post (e.g. by removing the mail headers). This normalisation allows the model to generalise to regular text and not over-depend on specific fields. If your input data is always going to be newsgroup posts, it may be helpful to leave this structure in place if they provide genuine signals."
   ]
  },
  {
   "cell_type": "code",
   "execution_count": 8,
   "id": "af2fb595",
   "metadata": {
    "execution": {
     "iopub.execute_input": "2024-11-16T05:12:12.338476Z",
     "iopub.status.busy": "2024-11-16T05:12:12.337929Z",
     "iopub.status.idle": "2024-11-16T05:12:13.206413Z",
     "shell.execute_reply": "2024-11-16T05:12:13.205154Z"
    },
    "id": "IoNYTxpoZgB0",
    "papermill": {
     "duration": 0.885729,
     "end_time": "2024-11-16T05:12:13.209129",
     "exception": false,
     "start_time": "2024-11-16T05:12:12.323400",
     "status": "completed"
    },
    "tags": []
   },
   "outputs": [],
   "source": [
    "import email\n",
    "import re\n",
    "\n",
    "import pandas as pd\n",
    "\n",
    "\n",
    "def preprocess_newsgroup_row(data):\n",
    "    # Extract only the subject and body\n",
    "    msg = email.message_from_string(data)\n",
    "    text = f\"{msg['Subject']}\\n\\n{msg.get_payload()}\"\n",
    "    # Strip any remaining email addresses\n",
    "    text = re.sub(r\"[\\w\\.-]+@[\\w\\.-]+\", \"\", text)\n",
    "    # Truncate the text to fit within the input limits\n",
    "    text = text[:40000]\n",
    "\n",
    "    return text\n",
    "\n",
    "\n",
    "def preprocess_newsgroup_data(newsgroup_dataset):\n",
    "    # Put data points into dataframe\n",
    "    df = pd.DataFrame(\n",
    "        {\"Text\": newsgroup_dataset.data, \"Label\": newsgroup_dataset.target}\n",
    "    )\n",
    "    # Clean up the text\n",
    "    df[\"Text\"] = df[\"Text\"].apply(preprocess_newsgroup_row)\n",
    "    # Match label to target name index\n",
    "    df[\"Class Name\"] = df[\"Label\"].map(lambda l: newsgroup_dataset.target_names[l])\n",
    "\n",
    "    return df"
   ]
  },
  {
   "cell_type": "code",
   "execution_count": 9,
   "id": "48bde05a",
   "metadata": {
    "execution": {
     "iopub.execute_input": "2024-11-16T05:12:13.230462Z",
     "iopub.status.busy": "2024-11-16T05:12:13.229821Z",
     "iopub.status.idle": "2024-11-16T05:12:17.306020Z",
     "shell.execute_reply": "2024-11-16T05:12:17.304884Z"
    },
    "id": "kvOsUSRWaW4g",
    "papermill": {
     "duration": 4.090362,
     "end_time": "2024-11-16T05:12:17.309339",
     "exception": false,
     "start_time": "2024-11-16T05:12:13.218977",
     "status": "completed"
    },
    "tags": []
   },
   "outputs": [
    {
     "data": {
      "text/html": [
       "<div>\n",
       "<style scoped>\n",
       "    .dataframe tbody tr th:only-of-type {\n",
       "        vertical-align: middle;\n",
       "    }\n",
       "\n",
       "    .dataframe tbody tr th {\n",
       "        vertical-align: top;\n",
       "    }\n",
       "\n",
       "    .dataframe thead th {\n",
       "        text-align: right;\n",
       "    }\n",
       "</style>\n",
       "<table border=\"1\" class=\"dataframe\">\n",
       "  <thead>\n",
       "    <tr style=\"text-align: right;\">\n",
       "      <th></th>\n",
       "      <th>Text</th>\n",
       "      <th>Label</th>\n",
       "      <th>Class Name</th>\n",
       "    </tr>\n",
       "  </thead>\n",
       "  <tbody>\n",
       "    <tr>\n",
       "      <th>0</th>\n",
       "      <td>WHAT car is this!?\\n\\n I was wondering if anyo...</td>\n",
       "      <td>7</td>\n",
       "      <td>rec.autos</td>\n",
       "    </tr>\n",
       "    <tr>\n",
       "      <th>1</th>\n",
       "      <td>SI Clock Poll - Final Call\\n\\nA fair number of...</td>\n",
       "      <td>4</td>\n",
       "      <td>comp.sys.mac.hardware</td>\n",
       "    </tr>\n",
       "    <tr>\n",
       "      <th>2</th>\n",
       "      <td>PB questions...\\n\\nwell folks, my mac plus fin...</td>\n",
       "      <td>4</td>\n",
       "      <td>comp.sys.mac.hardware</td>\n",
       "    </tr>\n",
       "    <tr>\n",
       "      <th>3</th>\n",
       "      <td>Re: Weitek P9000 ?\\n\\nRobert J.C. Kyanko () wr...</td>\n",
       "      <td>1</td>\n",
       "      <td>comp.graphics</td>\n",
       "    </tr>\n",
       "    <tr>\n",
       "      <th>4</th>\n",
       "      <td>Re: Shuttle Launch Question\\n\\nFrom article &lt;&gt;...</td>\n",
       "      <td>14</td>\n",
       "      <td>sci.space</td>\n",
       "    </tr>\n",
       "  </tbody>\n",
       "</table>\n",
       "</div>"
      ],
      "text/plain": [
       "                                                Text  Label  \\\n",
       "0  WHAT car is this!?\\n\\n I was wondering if anyo...      7   \n",
       "1  SI Clock Poll - Final Call\\n\\nA fair number of...      4   \n",
       "2  PB questions...\\n\\nwell folks, my mac plus fin...      4   \n",
       "3  Re: Weitek P9000 ?\\n\\nRobert J.C. Kyanko () wr...      1   \n",
       "4  Re: Shuttle Launch Question\\n\\nFrom article <>...     14   \n",
       "\n",
       "              Class Name  \n",
       "0              rec.autos  \n",
       "1  comp.sys.mac.hardware  \n",
       "2  comp.sys.mac.hardware  \n",
       "3          comp.graphics  \n",
       "4              sci.space  "
      ]
     },
     "execution_count": 9,
     "metadata": {},
     "output_type": "execute_result"
    }
   ],
   "source": [
    "# Apply preprocessing to training and test datasets\n",
    "df_train = preprocess_newsgroup_data(newsgroups_train)\n",
    "df_test = preprocess_newsgroup_data(newsgroups_test)\n",
    "\n",
    "df_train.head()"
   ]
  },
  {
   "cell_type": "markdown",
   "id": "6935c96b",
   "metadata": {
    "id": "XSKcj5WtadaR",
    "papermill": {
     "duration": 0.01095,
     "end_time": "2024-11-16T05:12:17.331822",
     "exception": false,
     "start_time": "2024-11-16T05:12:17.320872",
     "status": "completed"
    },
    "tags": []
   },
   "source": [
    "Now sample the data. You will keep 50 rows for each category for training. Note that this is even fewer than the Keras example, as this technique (parameter-efficient fine-tuning, or PEFT) updates a relatively small number of parameters and does not require training a new model or updating the large model."
   ]
  },
  {
   "cell_type": "code",
   "execution_count": 10,
   "id": "1b359452",
   "metadata": {
    "execution": {
     "iopub.execute_input": "2024-11-16T05:12:17.354222Z",
     "iopub.status.busy": "2024-11-16T05:12:17.353321Z",
     "iopub.status.idle": "2024-11-16T05:12:17.400067Z",
     "shell.execute_reply": "2024-11-16T05:12:17.398961Z"
    },
    "id": "0t9Xu6X5akkt",
    "papermill": {
     "duration": 0.06097,
     "end_time": "2024-11-16T05:12:17.402717",
     "exception": false,
     "start_time": "2024-11-16T05:12:17.341747",
     "status": "completed"
    },
    "tags": []
   },
   "outputs": [],
   "source": [
    "def sample_data(df, num_samples, classes_to_keep):\n",
    "    # Sample rows, selecting num_samples of each Label.\n",
    "    df = (\n",
    "        df.groupby(\"Label\")[df.columns]\n",
    "        .apply(lambda x: x.sample(num_samples))\n",
    "        .reset_index(drop=True)\n",
    "    )\n",
    "\n",
    "    df = df[df[\"Class Name\"].str.contains(classes_to_keep)]\n",
    "    df[\"Class Name\"] = df[\"Class Name\"].astype(\"category\")\n",
    "\n",
    "    return df\n",
    "\n",
    "\n",
    "TRAIN_NUM_SAMPLES = 50\n",
    "TEST_NUM_SAMPLES = 10\n",
    "# Keep rec.* and sci.*\n",
    "CLASSES_TO_KEEP = \"^rec|^sci\"\n",
    "\n",
    "df_train = sample_data(df_train, TRAIN_NUM_SAMPLES, CLASSES_TO_KEEP)\n",
    "df_test = sample_data(df_test, TEST_NUM_SAMPLES, CLASSES_TO_KEEP)"
   ]
  },
  {
   "cell_type": "markdown",
   "id": "981686a4",
   "metadata": {
    "papermill": {
     "duration": 0.009258,
     "end_time": "2024-11-16T05:12:17.421725",
     "exception": false,
     "start_time": "2024-11-16T05:12:17.412467",
     "status": "completed"
    },
    "tags": []
   },
   "source": [
    "## Evaluate baseline performance\n",
    "\n",
    "Before you start tuning a model, it's good practice to perform an evaluation on the available models to ensure you can measure how much the tuning helps.\n",
    "\n",
    "First identify a single sample row to use for visual inspection."
   ]
  },
  {
   "cell_type": "code",
   "execution_count": 11,
   "id": "2ed40661",
   "metadata": {
    "execution": {
     "iopub.execute_input": "2024-11-16T05:12:17.443557Z",
     "iopub.status.busy": "2024-11-16T05:12:17.443131Z",
     "iopub.status.idle": "2024-11-16T05:12:17.450042Z",
     "shell.execute_reply": "2024-11-16T05:12:17.448819Z"
    },
    "papermill": {
     "duration": 0.020488,
     "end_time": "2024-11-16T05:12:17.452408",
     "exception": false,
     "start_time": "2024-11-16T05:12:17.431920",
     "status": "completed"
    },
    "tags": []
   },
   "outputs": [
    {
     "name": "stdout",
     "output_type": "stream",
     "text": [
      "Need info on 88-89 Bonneville\n",
      "\n",
      "\n",
      " I am a little confused on all of the models of the 88-89 bonnevilles.\n",
      "I have heard of the LE SE LSE SSE SSEI. Could someone tell me the\n",
      "differences are far as features or performance. I am also curious to\n",
      "know what the book value is for prefereably the 89 model. And how much\n",
      "less than book value can you usually get them for. In other words how\n",
      "much are they in demand this time of year. I have heard that the mid-spring\n",
      "early summer is the best time to buy.\n",
      "\n",
      "\t\t\tNeil Gandler\n",
      "\n",
      "---\n",
      "Label: rec.autos\n"
     ]
    }
   ],
   "source": [
    "sample_idx = 0\n",
    "sample_row = preprocess_newsgroup_row(newsgroups_test.data[sample_idx])\n",
    "sample_label = newsgroups_test.target_names[newsgroups_test.target[sample_idx]]\n",
    "\n",
    "print(sample_row)\n",
    "print('---')\n",
    "print('Label:', sample_label)"
   ]
  },
  {
   "cell_type": "markdown",
   "id": "e601f6e7",
   "metadata": {
    "papermill": {
     "duration": 0.009591,
     "end_time": "2024-11-16T05:12:17.471773",
     "exception": false,
     "start_time": "2024-11-16T05:12:17.462182",
     "status": "completed"
    },
    "tags": []
   },
   "source": [
    "Passing the text directly in as a prompt does not yield the desired results. The model will attempt to respond to the message."
   ]
  },
  {
   "cell_type": "code",
   "execution_count": 12,
   "id": "6414d9fa",
   "metadata": {
    "execution": {
     "iopub.execute_input": "2024-11-16T05:12:17.493936Z",
     "iopub.status.busy": "2024-11-16T05:12:17.492813Z",
     "iopub.status.idle": "2024-11-16T05:12:21.265395Z",
     "shell.execute_reply": "2024-11-16T05:12:21.264022Z"
    },
    "papermill": {
     "duration": 3.786423,
     "end_time": "2024-11-16T05:12:21.268105",
     "exception": false,
     "start_time": "2024-11-16T05:12:17.481682",
     "status": "completed"
    },
    "tags": []
   },
   "outputs": [
    {
     "name": "stdout",
     "output_type": "stream",
     "text": [
      "##  Bonneville 88-89 Models: A Breakdown\n",
      "\n",
      "You're right, the Bonneville lineup in those years was a bit confusing! Here's a breakdown of the main models and their distinctions:\n",
      "\n",
      "**1. Base Bonneville:** This was the entry-level model. It came with a 3.8L V6 engine, standard features like power steering, brakes, and a basic radio. \n",
      "\n",
      "**2. LE (Luxury Edition):**  The LE trim added more comfort and luxury features, including:\n",
      "    *  Leather upholstery\n",
      "    *  Power driver's seat\n",
      "    *  Cruise control\n",
      "    *  AM/FM cassette stereo\n",
      "    *  Tinted glass\n",
      "\n",
      "**3. SE (Special Edition):** The SE model focused on performance, offering:\n",
      "    *  A 3.8L V6 engine with more horsepower (165 hp vs. 140 hp in the base model)\n",
      "    *  Sporty suspension tuning \n",
      "    *  Unique interior and exterior styling cues\n",
      "\n",
      "**4. LSE (Luxury Special Edition):** This model combined the luxury of the LE with the performance enhancements of the SE: \n",
      "    *  Leather upholstery, power seats, cruise control\n",
      "    *  More powerful 3.8L V6 engine\n",
      "    *  Sporty suspension\n",
      "\n",
      "**5. SSE (Super Sport Edition):**  The SSE was the top-of-the-line performance model, featuring:\n",
      "    *  A 3.8L V6 engine with a turbocharger (200 hp) \n",
      "    *  Sporty suspension and steering\n",
      "    *  Unique interior and exterior styling, including a distinctive front bumper and rear spoiler\n",
      "\n",
      "**6. SSEi (Super Sport Edition Injected):**  This model was introduced in 1989 and essentially replaced the SSE. It differed from the previous model by having:\n",
      "    *  A 3.8L V6 engine with multi-port fuel injection (MPI) for better fuel economy and performance\n",
      "    *  Unique interior and exterior styling with a new front grille and revised rear bumper\n",
      "\n",
      "**Book Value & Demand:**\n",
      "\n",
      "The book value of an '89 Bonneville will vary greatly depending on the model, condition, and mileage.  You can find reliable estimates using online resources like Kelley Blue Book (KBB) or Edmunds. \n",
      "\n",
      "**Demand & Pricing:**\n",
      "\n",
      "Bonnevilles from this era are generally not in high demand, especially the base models.  You can expect to find them significantly less than their book value, sometimes 50% or more. \n",
      "\n",
      "**Best Time to Buy:**\n",
      "\n",
      "You're right that mid-spring to early summer is typically a good time to buy used cars.  This is because dealerships are looking to make room for new models and are more willing to negotiate prices. \n",
      "\n",
      "**Important Considerations:**\n",
      "\n",
      "* **Maintenance:**  Be prepared for potential maintenance costs, as these cars are getting older. \n",
      "* **Parts Availability:** Parts for older Bonnevilles might be harder to find.\n",
      "* **Reliability:** While not known for their reliability, the 3.8L V6 engine is a common and relatively robust powerplant.\n",
      "\n",
      "**Before you buy:**\n",
      "\n",
      "* **Research thoroughly:**  Check online forums, reviews, and owner reports to get a better sense of the model's reliability and potential issues.\n",
      "* **Get a pre-purchase inspection:** Have a qualified mechanic inspect the car before you commit to buying it.\n",
      "\n",
      "I hope this information is helpful. Good luck in your search for the perfect 88-89 Bonneville! \n",
      "\n"
     ]
    }
   ],
   "source": [
    "baseline_model = genai.GenerativeModel(\"gemini-1.5-flash-001\")\n",
    "response = baseline_model.generate_content(sample_row)\n",
    "print(response.text)"
   ]
  },
  {
   "cell_type": "markdown",
   "id": "0f8172e6",
   "metadata": {
    "papermill": {
     "duration": 0.009705,
     "end_time": "2024-11-16T05:12:21.288045",
     "exception": false,
     "start_time": "2024-11-16T05:12:21.278340",
     "status": "completed"
    },
    "tags": []
   },
   "source": [
    "You can use the prompt engineering techniques you have learned this week to induce the model to perform the desired task. Try some of your own ideas and see what is effective, or check out the following cells for different approaches. Note that they have different levels of effectiveness!"
   ]
  },
  {
   "cell_type": "code",
   "execution_count": 13,
   "id": "c0620c62",
   "metadata": {
    "execution": {
     "iopub.execute_input": "2024-11-16T05:12:21.310620Z",
     "iopub.status.busy": "2024-11-16T05:12:21.309539Z",
     "iopub.status.idle": "2024-11-16T05:12:23.067392Z",
     "shell.execute_reply": "2024-11-16T05:12:23.065936Z"
    },
    "papermill": {
     "duration": 1.772159,
     "end_time": "2024-11-16T05:12:23.070275",
     "exception": false,
     "start_time": "2024-11-16T05:12:21.298116",
     "status": "completed"
    },
    "tags": []
   },
   "outputs": [
    {
     "name": "stdout",
     "output_type": "stream",
     "text": [
      "It's impossible to determine the exact newsgroup from just this message. However, based on the content, it's likely from a newsgroup related to **Buick automobiles**, specifically the **Bonneville model**. \n",
      "\n",
      "Here's why:\n",
      "\n",
      "* **Topic:** The entire message focuses on the 1988-1989 Buick Bonneville model, including specific trim levels (LE, SE, etc.) and pricing information.\n",
      "* **Target Audience:** The tone suggests the message is intended for a community of Buick enthusiasts or owners.\n",
      "* **Common Newsgroup Names:**  Common newsgroup names for Buick discussions might include:\n",
      "    * **alt.autos.buick**\n",
      "    * **rec.autos.buick**\n",
      "    * **comp.autos.buick**\n",
      "\n",
      "Without additional context or information like the message header, it's difficult to pinpoint the exact newsgroup. But, based on the content, it's highly likely the message originates from one of the Buick-related newsgroups mentioned above. \n",
      "\n"
     ]
    }
   ],
   "source": [
    "# Ask the model directly in a zero-shot prompt.\n",
    "\n",
    "prompt = \"From what newsgroup does the following message originate?\"\n",
    "baseline_response = baseline_model.generate_content([prompt, sample_row])\n",
    "print(baseline_response.text)"
   ]
  },
  {
   "cell_type": "markdown",
   "id": "13c5d220",
   "metadata": {
    "papermill": {
     "duration": 0.010242,
     "end_time": "2024-11-16T05:12:23.090950",
     "exception": false,
     "start_time": "2024-11-16T05:12:23.080708",
     "status": "completed"
    },
    "tags": []
   },
   "source": [
    "That technique produces quite a verbose response. You could try and pick out the relevant text, or refine the prompt even further."
   ]
  },
  {
   "cell_type": "code",
   "execution_count": 14,
   "id": "5bbe02a4",
   "metadata": {
    "execution": {
     "iopub.execute_input": "2024-11-16T05:12:23.112596Z",
     "iopub.status.busy": "2024-11-16T05:12:23.112172Z",
     "iopub.status.idle": "2024-11-16T05:12:23.577052Z",
     "shell.execute_reply": "2024-11-16T05:12:23.575701Z"
    },
    "papermill": {
     "duration": 0.478426,
     "end_time": "2024-11-16T05:12:23.579321",
     "exception": false,
     "start_time": "2024-11-16T05:12:23.100895",
     "status": "completed"
    },
    "tags": []
   },
   "outputs": [
    {
     "name": "stdout",
     "output_type": "stream",
     "text": [
      "rec.autos.misc\n",
      "\n",
      "Incorrect.\n"
     ]
    }
   ],
   "source": [
    "from google.api_core import retry\n",
    "\n",
    "# You can use a system instruction to do more direct prompting, and get a\n",
    "# more succinct answer.\n",
    "\n",
    "system_instruct = \"\"\"\n",
    "You are a classification service. You will be passed input that represents\n",
    "a newsgroup post and you must respond with the newsgroup from which the post\n",
    "originates.\n",
    "\"\"\"\n",
    "\n",
    "instructed_model = genai.GenerativeModel(\"gemini-1.5-flash-001\",\n",
    "                                         system_instruction=system_instruct)\n",
    "\n",
    "retry_policy = {\"retry\": retry.Retry(predicate=retry.if_transient_error)}\n",
    "\n",
    "# If you want to evaluate your own technique, replace this function with your\n",
    "# model, prompt and other code and return the predicted answer.\n",
    "def predict_label(post: str) -> str:\n",
    "    response = instructed_model.generate_content(post, request_options=retry_policy)\n",
    "    rc = response.candidates[0]\n",
    "\n",
    "    # Any errors, filters, recitation, etc we can mark as a general error\n",
    "    if rc.finish_reason.name != \"STOP\":\n",
    "        return \"(error)\"\n",
    "    else:\n",
    "        # Clean up the response.\n",
    "        return response.text.strip()\n",
    "\n",
    "\n",
    "prediction = predict_label(sample_row)\n",
    "\n",
    "print(prediction)\n",
    "print()\n",
    "print(\"Correct!\" if prediction == sample_label else \"Incorrect.\")"
   ]
  },
  {
   "cell_type": "markdown",
   "id": "b04b695e",
   "metadata": {
    "papermill": {
     "duration": 0.009827,
     "end_time": "2024-11-16T05:12:23.599260",
     "exception": false,
     "start_time": "2024-11-16T05:12:23.589433",
     "status": "completed"
    },
    "tags": []
   },
   "source": [
    "Now run a short evaluation using the function defined above. The test set is further sampled to ensure the experiment runs smoothly on the API's free tier. In practice you would evaluate over the whole set."
   ]
  },
  {
   "cell_type": "code",
   "execution_count": 15,
   "id": "c2834a82",
   "metadata": {
    "execution": {
     "iopub.execute_input": "2024-11-16T05:12:23.621154Z",
     "iopub.status.busy": "2024-11-16T05:12:23.620710Z",
     "iopub.status.idle": "2024-11-16T05:13:46.642691Z",
     "shell.execute_reply": "2024-11-16T05:13:46.641606Z"
    },
    "papermill": {
     "duration": 83.036294,
     "end_time": "2024-11-16T05:13:46.645588",
     "exception": false,
     "start_time": "2024-11-16T05:12:23.609294",
     "status": "completed"
    },
    "tags": []
   },
   "outputs": [
    {
     "data": {
      "application/vnd.jupyter.widget-view+json": {
       "model_id": "596bf625174d41f3a18410e635750311",
       "version_major": 2,
       "version_minor": 0
      },
      "text/plain": [
       "Output()"
      ]
     },
     "metadata": {},
     "output_type": "display_data"
    },
    {
     "name": "stderr",
     "output_type": "stream",
     "text": [
      "/opt/conda/lib/python3.10/site-packages/tqdm/std.py:885: TqdmExperimentalWarning: rich is experimental/alpha\n",
      "  t = cls(total=total, **tqdm_kwargs)\n"
     ]
    },
    {
     "data": {
      "text/html": [
       "<pre style=\"white-space:pre;overflow-x:auto;line-height:normal;font-family:Menlo,'DejaVu Sans Mono',consolas,'Courier New',monospace\"></pre>\n"
      ],
      "text/plain": []
     },
     "metadata": {},
     "output_type": "display_data"
    },
    {
     "data": {
      "text/html": [
       "<pre style=\"white-space:pre;overflow-x:auto;line-height:normal;font-family:Menlo,'DejaVu Sans Mono',consolas,'Courier New',monospace\">\n",
       "</pre>\n"
      ],
      "text/plain": [
       "\n"
      ]
     },
     "metadata": {},
     "output_type": "display_data"
    },
    {
     "name": "stdout",
     "output_type": "stream",
     "text": [
      "Accuracy: 37.50%\n"
     ]
    }
   ],
   "source": [
    "from tqdm.rich import tqdm\n",
    "\n",
    "tqdm.pandas()\n",
    "\n",
    "\n",
    "# Further sample the test data to be mindful of the free-tier quota.\n",
    "df_baseline_eval = sample_data(df_test, 2, '.*')\n",
    "\n",
    "# Make predictions using the sampled data.\n",
    "df_baseline_eval['Prediction'] = df_baseline_eval['Text'].progress_apply(predict_label)\n",
    "\n",
    "# And calculate the accuracy.\n",
    "accuracy = (df_baseline_eval[\"Class Name\"] == df_baseline_eval[\"Prediction\"]).sum() / len(df_baseline_eval)\n",
    "print(f\"Accuracy: {accuracy:.2%}\")"
   ]
  },
  {
   "cell_type": "markdown",
   "id": "31944a58",
   "metadata": {
    "papermill": {
     "duration": 0.016039,
     "end_time": "2024-11-16T05:13:46.678942",
     "exception": false,
     "start_time": "2024-11-16T05:13:46.662903",
     "status": "completed"
    },
    "tags": []
   },
   "source": [
    "Now take a look at the dataframe to compare the predictions with the labels."
   ]
  },
  {
   "cell_type": "code",
   "execution_count": 16,
   "id": "bb386136",
   "metadata": {
    "execution": {
     "iopub.execute_input": "2024-11-16T05:13:49.502245Z",
     "iopub.status.busy": "2024-11-16T05:13:49.501942Z",
     "iopub.status.idle": "2024-11-16T05:13:49.515949Z",
     "shell.execute_reply": "2024-11-16T05:13:49.514793Z"
    },
    "papermill": {
     "duration": 2.82269,
     "end_time": "2024-11-16T05:13:49.518307",
     "exception": false,
     "start_time": "2024-11-16T05:13:46.695617",
     "status": "completed"
    },
    "tags": []
   },
   "outputs": [
    {
     "data": {
      "text/html": [
       "<div>\n",
       "<style scoped>\n",
       "    .dataframe tbody tr th:only-of-type {\n",
       "        vertical-align: middle;\n",
       "    }\n",
       "\n",
       "    .dataframe tbody tr th {\n",
       "        vertical-align: top;\n",
       "    }\n",
       "\n",
       "    .dataframe thead th {\n",
       "        text-align: right;\n",
       "    }\n",
       "</style>\n",
       "<table border=\"1\" class=\"dataframe\">\n",
       "  <thead>\n",
       "    <tr style=\"text-align: right;\">\n",
       "      <th></th>\n",
       "      <th>Text</th>\n",
       "      <th>Label</th>\n",
       "      <th>Class Name</th>\n",
       "      <th>Prediction</th>\n",
       "    </tr>\n",
       "  </thead>\n",
       "  <tbody>\n",
       "    <tr>\n",
       "      <th>0</th>\n",
       "      <td>Re: Replacement/Custom Seats, Where to get?\\n\\...</td>\n",
       "      <td>7</td>\n",
       "      <td>rec.autos</td>\n",
       "      <td>rec.autos.sports-cars</td>\n",
       "    </tr>\n",
       "    <tr>\n",
       "      <th>1</th>\n",
       "      <td>After market sunroofs (power moonroof BIG $ ty...</td>\n",
       "      <td>7</td>\n",
       "      <td>rec.autos</td>\n",
       "      <td>rec.autos.marketplace</td>\n",
       "    </tr>\n",
       "    <tr>\n",
       "      <th>2</th>\n",
       "      <td>Re: Inner tube in tyre... Safe ?\\n\\nSpeedy Mer...</td>\n",
       "      <td>8</td>\n",
       "      <td>rec.motorcycles</td>\n",
       "      <td>rec.motorcycles</td>\n",
       "    </tr>\n",
       "    <tr>\n",
       "      <th>3</th>\n",
       "      <td>Re: Hawk GT new seat review\\n\\nI, too, put a c...</td>\n",
       "      <td>8</td>\n",
       "      <td>rec.motorcycles</td>\n",
       "      <td>rec.motorcycles</td>\n",
       "    </tr>\n",
       "    <tr>\n",
       "      <th>4</th>\n",
       "      <td>Re: 200 SBs &amp; 200 HRs\\n\\n (Dan Steinman) write...</td>\n",
       "      <td>9</td>\n",
       "      <td>rec.sport.baseball</td>\n",
       "      <td>rec.sport.baseball</td>\n",
       "    </tr>\n",
       "    <tr>\n",
       "      <th>5</th>\n",
       "      <td>Re: Jewish Baseball Players?\\n\\nIn article &lt;&gt;,...</td>\n",
       "      <td>9</td>\n",
       "      <td>rec.sport.baseball</td>\n",
       "      <td>rec.sport.baseball</td>\n",
       "    </tr>\n",
       "    <tr>\n",
       "      <th>6</th>\n",
       "      <td>Re: SHARKS: Jack Feirerra (was Re: SHARKS: Kin...</td>\n",
       "      <td>10</td>\n",
       "      <td>rec.sport.hockey</td>\n",
       "      <td>rec.sports.hockey</td>\n",
       "    </tr>\n",
       "    <tr>\n",
       "      <th>7</th>\n",
       "      <td>Re: NHL LETTER (***QUITE LONG***)\\n\\nIn articl...</td>\n",
       "      <td>10</td>\n",
       "      <td>rec.sport.hockey</td>\n",
       "      <td>rec.sport.hockey</td>\n",
       "    </tr>\n",
       "    <tr>\n",
       "      <th>8</th>\n",
       "      <td>Re: New Encryption Algorithm\\n\\n \\n&gt;In article...</td>\n",
       "      <td>11</td>\n",
       "      <td>sci.crypt</td>\n",
       "      <td>(error)</td>\n",
       "    </tr>\n",
       "    <tr>\n",
       "      <th>9</th>\n",
       "      <td>Amiga RIPEM?\\n\\nHas anyone ported RIPEM to the...</td>\n",
       "      <td>11</td>\n",
       "      <td>sci.crypt</td>\n",
       "      <td>comp.sys.amiga</td>\n",
       "    </tr>\n",
       "    <tr>\n",
       "      <th>10</th>\n",
       "      <td>**** And now serious: E-Magazine *****\\n\\n\\nFo...</td>\n",
       "      <td>12</td>\n",
       "      <td>sci.electronics</td>\n",
       "      <td>comp.infosystems.www.misc</td>\n",
       "    </tr>\n",
       "    <tr>\n",
       "      <th>11</th>\n",
       "      <td>Re: How universal are phones these days?\\n\\nIn...</td>\n",
       "      <td>12</td>\n",
       "      <td>sci.electronics</td>\n",
       "      <td>comp.telecom.phone</td>\n",
       "    </tr>\n",
       "    <tr>\n",
       "      <th>12</th>\n",
       "      <td>Re: earwax\\n\\n (*Heather*) writes:\\n&gt;You can t...</td>\n",
       "      <td>13</td>\n",
       "      <td>sci.med</td>\n",
       "      <td>alt.med</td>\n",
       "    </tr>\n",
       "    <tr>\n",
       "      <th>13</th>\n",
       "      <td>Re: Lithium questions, Doctor wants my 10 year...</td>\n",
       "      <td>13</td>\n",
       "      <td>sci.med</td>\n",
       "      <td>alt.support.parents</td>\n",
       "    </tr>\n",
       "    <tr>\n",
       "      <th>14</th>\n",
       "      <td>The Dream Machines: book on vaporware spacecra...</td>\n",
       "      <td>14</td>\n",
       "      <td>sci.space</td>\n",
       "      <td>rec.arts.sf.science-fiction</td>\n",
       "    </tr>\n",
       "    <tr>\n",
       "      <th>15</th>\n",
       "      <td>Re: HST Servicing Mission Scheduled for 11 Day...</td>\n",
       "      <td>14</td>\n",
       "      <td>sci.space</td>\n",
       "      <td>sci.space</td>\n",
       "    </tr>\n",
       "  </tbody>\n",
       "</table>\n",
       "</div>"
      ],
      "text/plain": [
       "                                                 Text  Label  \\\n",
       "0   Re: Replacement/Custom Seats, Where to get?\\n\\...      7   \n",
       "1   After market sunroofs (power moonroof BIG $ ty...      7   \n",
       "2   Re: Inner tube in tyre... Safe ?\\n\\nSpeedy Mer...      8   \n",
       "3   Re: Hawk GT new seat review\\n\\nI, too, put a c...      8   \n",
       "4   Re: 200 SBs & 200 HRs\\n\\n (Dan Steinman) write...      9   \n",
       "5   Re: Jewish Baseball Players?\\n\\nIn article <>,...      9   \n",
       "6   Re: SHARKS: Jack Feirerra (was Re: SHARKS: Kin...     10   \n",
       "7   Re: NHL LETTER (***QUITE LONG***)\\n\\nIn articl...     10   \n",
       "8   Re: New Encryption Algorithm\\n\\n \\n>In article...     11   \n",
       "9   Amiga RIPEM?\\n\\nHas anyone ported RIPEM to the...     11   \n",
       "10  **** And now serious: E-Magazine *****\\n\\n\\nFo...     12   \n",
       "11  Re: How universal are phones these days?\\n\\nIn...     12   \n",
       "12  Re: earwax\\n\\n (*Heather*) writes:\\n>You can t...     13   \n",
       "13  Re: Lithium questions, Doctor wants my 10 year...     13   \n",
       "14  The Dream Machines: book on vaporware spacecra...     14   \n",
       "15  Re: HST Servicing Mission Scheduled for 11 Day...     14   \n",
       "\n",
       "            Class Name                   Prediction  \n",
       "0            rec.autos        rec.autos.sports-cars  \n",
       "1            rec.autos        rec.autos.marketplace  \n",
       "2      rec.motorcycles              rec.motorcycles  \n",
       "3      rec.motorcycles              rec.motorcycles  \n",
       "4   rec.sport.baseball           rec.sport.baseball  \n",
       "5   rec.sport.baseball           rec.sport.baseball  \n",
       "6     rec.sport.hockey            rec.sports.hockey  \n",
       "7     rec.sport.hockey             rec.sport.hockey  \n",
       "8            sci.crypt                      (error)  \n",
       "9            sci.crypt               comp.sys.amiga  \n",
       "10     sci.electronics    comp.infosystems.www.misc  \n",
       "11     sci.electronics           comp.telecom.phone  \n",
       "12             sci.med                      alt.med  \n",
       "13             sci.med          alt.support.parents  \n",
       "14           sci.space  rec.arts.sf.science-fiction  \n",
       "15           sci.space                    sci.space  "
      ]
     },
     "execution_count": 16,
     "metadata": {},
     "output_type": "execute_result"
    }
   ],
   "source": [
    "df_baseline_eval"
   ]
  },
  {
   "cell_type": "markdown",
   "id": "76122661",
   "metadata": {
    "id": "Ok7ugrLzcghX",
    "papermill": {
     "duration": 0.010771,
     "end_time": "2024-11-16T05:13:49.540411",
     "exception": false,
     "start_time": "2024-11-16T05:13:49.529640",
     "status": "completed"
    },
    "tags": []
   },
   "source": [
    "## Tune a custom model\n",
    "\n",
    "In this example you'll use tuning to help create a model that requires no prompting or system instructions and outputs succinct text from the classes you provide in the training data.\n",
    "\n",
    "The data contains both input text (the processed posts) and output text (the category, or newsgroup), which you can use to start tuning a model.\n",
    "\n",
    "The Python SDK for tuning supports Pandas dataframes as input, so you don't need any custom data generators or pipelines. Just specify the input and the relevant columns as the `input_key` and `output_key`.\n",
    "\n",
    "When calling `create_tuned_model`, you can specify model tuning hyperparameters too:\n",
    " - `epoch_count`: defines how many times to loop through the data,\n",
    " - `batch_size`: defines how many rows to process in a single step, and\n",
    " - `learning_rate`: defines the scaling factor for updating model weights at each step.\n",
    "\n",
    "You can also choose to omit them and use the defaults. [Learn more](https://developers.google.com/machine-learning/crash-course/linear-regression/hyperparameters) about these parameters and how they work. For this example these parameters were selected by running some tuning jobs and selecting parameters that were both effective and quick."
   ]
  },
  {
   "cell_type": "code",
   "execution_count": 17,
   "id": "671d6684",
   "metadata": {
    "execution": {
     "iopub.execute_input": "2024-11-16T05:13:49.564104Z",
     "iopub.status.busy": "2024-11-16T05:13:49.563682Z",
     "iopub.status.idle": "2024-11-16T05:13:50.804709Z",
     "shell.execute_reply": "2024-11-16T05:13:50.803334Z"
    },
    "id": "pWOZlspfY8dV",
    "papermill": {
     "duration": 1.255522,
     "end_time": "2024-11-16T05:13:50.807088",
     "exception": false,
     "start_time": "2024-11-16T05:13:49.551566",
     "status": "completed"
    },
    "tags": []
   },
   "outputs": [
    {
     "name": "stdout",
     "output_type": "stream",
     "text": [
      "newsgroup-classifier-35268\n"
     ]
    }
   ],
   "source": [
    "from collections.abc import Iterable\n",
    "import random\n",
    "\n",
    "\n",
    "# Append a random number to the model ID so you can re-run with a higher chance\n",
    "# of creating a unique model ID.\n",
    "model_id = f\"newsgroup-classifier-{random.randint(10000, 99999)}\"\n",
    "\n",
    "# Upload the training data and queue the tuning job.\n",
    "tuning_op = genai.create_tuned_model(\n",
    "    \"models/gemini-1.5-flash-001-tuning\",\n",
    "    training_data=df_train,\n",
    "    input_key=\"Text\",  # the column to use as input\n",
    "    output_key=\"Class Name\",  # the column to use as output\n",
    "    id=model_id,\n",
    "    display_name=\"Newsgroup classification model\",\n",
    "    batch_size=16,\n",
    "    epoch_count=2,\n",
    ")\n",
    "\n",
    "print(model_id)"
   ]
  },
  {
   "cell_type": "markdown",
   "id": "c3cd79d4",
   "metadata": {
    "id": "NQ3YZ2MBubCY",
    "papermill": {
     "duration": 0.010588,
     "end_time": "2024-11-16T05:13:50.828940",
     "exception": false,
     "start_time": "2024-11-16T05:13:50.818352",
     "status": "completed"
    },
    "tags": []
   },
   "source": [
    "This has created a tuning job that will run in the background. To inspect the progress of the tuning job, run this cell to plot the current status and loss curve. Once the status reaches `ACTIVE`, tuning is complete and the model is ready to use.\n",
    "\n",
    "Tuning jobs are queued, so it may look like no training steps have been taken initially but it will progress. Tuning can take upwards of 20 minutes, depending on factors like your dataset size and how busy the tuning infrastrature is. Why not treat yourself to a nice cup of tea while you wait, or come and say \"Hi!\" to [yours truly](https://discord.com/users/132124213132787712) in the group [Discord](https://discord.com/invite/kaggle).\n",
    "\n",
    "It is safe to stop this cell at any point. It will not stop the tuning job."
   ]
  },
  {
   "cell_type": "code",
   "execution_count": 18,
   "id": "03f45203",
   "metadata": {
    "execution": {
     "iopub.execute_input": "2024-11-16T05:13:50.852729Z",
     "iopub.status.busy": "2024-11-16T05:13:50.852295Z",
     "iopub.status.idle": "2024-11-16T05:18:53.622395Z",
     "shell.execute_reply": "2024-11-16T05:18:53.621103Z"
    },
    "id": "c4ef5f13692d",
    "papermill": {
     "duration": 302.784928,
     "end_time": "2024-11-16T05:18:53.624824",
     "exception": false,
     "start_time": "2024-11-16T05:13:50.839896",
     "status": "completed"
    },
    "tags": []
   },
   "outputs": [
    {
     "name": "stdout",
     "output_type": "stream",
     "text": [
      "State.CREATING\n",
      "State.CREATING\n",
      "State.CREATING\n",
      "State.CREATING\n",
      "State.CREATING\n",
      "Done! The model is ACTIVE\n"
     ]
    },
    {
     "name": "stderr",
     "output_type": "stream",
     "text": [
      "/opt/conda/lib/python3.10/site-packages/seaborn/_oldcore.py:1119: FutureWarning: use_inf_as_na option is deprecated and will be removed in a future version. Convert inf values to NaN before operating instead.\n",
      "  with pd.option_context('mode.use_inf_as_na', True):\n",
      "/opt/conda/lib/python3.10/site-packages/seaborn/_oldcore.py:1119: FutureWarning: use_inf_as_na option is deprecated and will be removed in a future version. Convert inf values to NaN before operating instead.\n",
      "  with pd.option_context('mode.use_inf_as_na', True):\n"
     ]
    },
    {
     "data": {
      "text/plain": [
       "<Axes: xlabel='step', ylabel='mean_loss'>"
      ]
     },
     "execution_count": 18,
     "metadata": {},
     "output_type": "execute_result"
    },
    {
     "data": {
      "image/png": "[encoded data removed]",
      "text/plain": [
       "<Figure size 640x480 with 1 Axes>"
      ]
     },
     "metadata": {},
     "output_type": "display_data"
    }
   ],
   "source": [
    "import time\n",
    "import seaborn as sns\n",
    "\n",
    "\n",
    "while (tuned_model := genai.get_tuned_model(f\"tunedModels/{model_id}\")).state.name != 'ACTIVE':\n",
    "\n",
    "    print(tuned_model.state)\n",
    "    time.sleep(60)\n",
    "\n",
    "print(f\"Done! The model is {tuned_model.state.name}\")\n",
    "\n",
    "# Plot the loss curve.\n",
    "snapshots = pd.DataFrame(tuned_model.tuning_task.snapshots)\n",
    "sns.lineplot(data=snapshots, x=\"step\", y=\"mean_loss\")\n"
   ]
  },
  {
   "cell_type": "markdown",
   "id": "6e13fb59",
   "metadata": {
    "id": "9-qiIdK4u80z",
    "papermill": {
     "duration": 0.011728,
     "end_time": "2024-11-16T05:18:53.648757",
     "exception": false,
     "start_time": "2024-11-16T05:18:53.637029",
     "status": "completed"
    },
    "tags": []
   },
   "source": [
    "Note that the `seaborn` module may output warnings containing `FutureWarning: use_inf_as_na option is deprecated`. These are expected and can be ignored."
   ]
  },
  {
   "cell_type": "markdown",
   "id": "c2462af0",
   "metadata": {
    "id": "9-qiIdK4u80z",
    "papermill": {
     "duration": 0.011595,
     "end_time": "2024-11-16T05:18:53.672339",
     "exception": false,
     "start_time": "2024-11-16T05:18:53.660744",
     "status": "completed"
    },
    "tags": []
   },
   "source": [
    "## Use the new model\n",
    "\n",
    "Now that you have a tuned model, try it out with custom data. You use the same API as a normal Gemini API interaction, but you specify your new model as the model name, using the `tunedModels/` prefix."
   ]
  },
  {
   "cell_type": "code",
   "execution_count": 19,
   "id": "609b62cf",
   "metadata": {
    "execution": {
     "iopub.execute_input": "2024-11-16T05:18:53.698277Z",
     "iopub.status.busy": "2024-11-16T05:18:53.697655Z",
     "iopub.status.idle": "2024-11-16T05:19:02.948267Z",
     "shell.execute_reply": "2024-11-16T05:19:02.946811Z"
    },
    "id": "hyO2-MXLvM6a",
    "papermill": {
     "duration": 9.266403,
     "end_time": "2024-11-16T05:19:02.950683",
     "exception": false,
     "start_time": "2024-11-16T05:18:53.684280",
     "status": "completed"
    },
    "tags": []
   },
   "outputs": [
    {
     "name": "stdout",
     "output_type": "stream",
     "text": [
      "sci.space\n"
     ]
    }
   ],
   "source": [
    "your_model = genai.GenerativeModel(f\"tunedModels/{model_id}\")\n",
    "\n",
    "new_text = \"\"\"\n",
    "First-timer looking to get out of here.\n",
    "\n",
    "Hi, I'm writing about my interest in travelling to the outer limits!\n",
    "\n",
    "What kind of craft can I buy? What is easiest to access from this 3rd rock?\n",
    "\n",
    "Let me know how to do that please.\n",
    "\"\"\"\n",
    "\n",
    "response = your_model.generate_content(new_text)\n",
    "print(response.text)"
   ]
  },
  {
   "cell_type": "markdown",
   "id": "47926007",
   "metadata": {
    "id": "xajLek9DySH_",
    "papermill": {
     "duration": 0.011879,
     "end_time": "2024-11-16T05:19:02.976160",
     "exception": false,
     "start_time": "2024-11-16T05:19:02.964281",
     "status": "completed"
    },
    "tags": []
   },
   "source": [
    "### Evaluation\n",
    "\n",
    "You can see that the model outputs labels that correspond to those in the training data, and without any system instructions or prompting, which is already a great improvement. Now see how well it performs on the test set.\n",
    "\n",
    "Note that there is no parallelism in this example; classifying the test sub-set will take a few minutes."
   ]
  },
  {
   "cell_type": "code",
   "execution_count": 20,
   "id": "a973ef47",
   "metadata": {
    "execution": {
     "iopub.execute_input": "2024-11-16T05:19:03.002863Z",
     "iopub.status.busy": "2024-11-16T05:19:03.002454Z",
     "iopub.status.idle": "2024-11-16T05:20:37.470431Z",
     "shell.execute_reply": "2024-11-16T05:20:37.469108Z"
    },
    "id": "6T2Y3ZApvbMw",
    "papermill": {
     "duration": 94.485748,
     "end_time": "2024-11-16T05:20:37.474194",
     "exception": false,
     "start_time": "2024-11-16T05:19:02.988446",
     "status": "completed"
    },
    "tags": []
   },
   "outputs": [
    {
     "data": {
      "application/vnd.jupyter.widget-view+json": {
       "model_id": "63e50f27b4e04b36a4ba2c88cf6077fd",
       "version_major": 2,
       "version_minor": 0
      },
      "text/plain": [
       "Output()"
      ]
     },
     "metadata": {},
     "output_type": "display_data"
    },
    {
     "name": "stderr",
     "output_type": "stream",
     "text": [
      "/opt/conda/lib/python3.10/site-packages/tqdm/std.py:885: TqdmExperimentalWarning: rich is experimental/alpha\n",
      "  t = cls(total=total, **tqdm_kwargs)\n"
     ]
    },
    {
     "data": {
      "text/html": [
       "<pre style=\"white-space:pre;overflow-x:auto;line-height:normal;font-family:Menlo,'DejaVu Sans Mono',consolas,'Courier New',monospace\"></pre>\n"
      ],
      "text/plain": []
     },
     "metadata": {},
     "output_type": "display_data"
    },
    {
     "data": {
      "text/html": [
       "<pre style=\"white-space:pre;overflow-x:auto;line-height:normal;font-family:Menlo,'DejaVu Sans Mono',consolas,'Courier New',monospace\">\n",
       "</pre>\n"
      ],
      "text/plain": [
       "\n"
      ]
     },
     "metadata": {},
     "output_type": "display_data"
    },
    {
     "name": "stdout",
     "output_type": "stream",
     "text": [
      "Accuracy: 96.88%\n"
     ]
    }
   ],
   "source": [
    "def classify_text(text: str) -> str:\n",
    "    \"\"\"Classify the provided text into a known newsgroup.\"\"\"\n",
    "    response = your_model.generate_content(text, request_options=retry_policy)\n",
    "    rc = response.candidates[0]\n",
    "\n",
    "    # Any errors, filters, recitation, etc we can mark as a general error\n",
    "    if rc.finish_reason.name != \"STOP\":\n",
    "        return \"(error)\"\n",
    "    else:\n",
    "        return rc.content.parts[0].text\n",
    "\n",
    "\n",
    "# The sampling here is just to minimise your quota usage. If you can, you should\n",
    "# evaluate the whole test set with `df_model_eval = df_test.copy()`.\n",
    "df_model_eval = sample_data(df_test, 4, '.*')\n",
    "\n",
    "\n",
    "df_model_eval[\"Prediction\"] = df_model_eval[\"Text\"].progress_apply(classify_text)\n",
    "\n",
    "accuracy = (df_model_eval[\"Class Name\"] == df_model_eval[\"Prediction\"]).sum() / len(df_model_eval)\n",
    "print(f\"Accuracy: {accuracy:.2%}\")"
   ]
  },
  {
   "cell_type": "markdown",
   "id": "91ffd3e1",
   "metadata": {
    "papermill": {
     "duration": 0.01543,
     "end_time": "2024-11-16T05:20:37.508493",
     "exception": false,
     "start_time": "2024-11-16T05:20:37.493063",
     "status": "completed"
    },
    "tags": []
   },
   "source": [
    "## Compare token usage\n",
    "\n",
    "AI Studio and the Gemini API provide model tuning at no cost, however normal limits and charges apply for *use* of a tuned model.\n",
    "\n",
    "The size of the input prompt and other generation config like system instructions, as well as the number of generated output tokens, all contribute to the overall cost of a request."
   ]
  },
  {
   "cell_type": "code",
   "execution_count": 21,
   "id": "2b15f7d1",
   "metadata": {
    "execution": {
     "iopub.execute_input": "2024-11-16T05:20:40.562945Z",
     "iopub.status.busy": "2024-11-16T05:20:40.562601Z",
     "iopub.status.idle": "2024-11-16T05:20:40.946628Z",
     "shell.execute_reply": "2024-11-16T05:20:40.945444Z"
    },
    "papermill": {
     "duration": 3.423043,
     "end_time": "2024-11-16T05:20:40.949074",
     "exception": false,
     "start_time": "2024-11-16T05:20:37.526031",
     "status": "completed"
    },
    "tags": []
   },
   "outputs": [
    {
     "name": "stdout",
     "output_type": "stream",
     "text": [
      "System instructed baseline model: 171 (input)\n",
      "Tuned model: 135 (input)\n",
      "Token savings: 26.67%\n"
     ]
    }
   ],
   "source": [
    "# Calculate the *input* cost of the baseline model with system instructions.\n",
    "sysint_tokens = instructed_model.count_tokens(sample_row).total_tokens\n",
    "print(f'System instructed baseline model: {sysint_tokens} (input)')\n",
    "\n",
    "# Calculate the input cost of the tuned model.\n",
    "tuned_tokens = your_model.count_tokens(sample_row).total_tokens\n",
    "print(f'Tuned model: {tuned_tokens} (input)')\n",
    "\n",
    "savings = (sysint_tokens - tuned_tokens) / tuned_tokens\n",
    "print(f'Token savings: {savings:.2%}')  # Note that this is only n=1."
   ]
  },
  {
   "cell_type": "markdown",
   "id": "e713d7bb",
   "metadata": {
    "papermill": {
     "duration": 0.012911,
     "end_time": "2024-11-16T05:20:40.975190",
     "exception": false,
     "start_time": "2024-11-16T05:20:40.962279",
     "status": "completed"
    },
    "tags": []
   },
   "source": [
    "The earlier verbose model also produced more output tokens than needed for this task."
   ]
  },
  {
   "cell_type": "code",
   "execution_count": 22,
   "id": "22b07b9f",
   "metadata": {
    "execution": {
     "iopub.execute_input": "2024-11-16T05:20:41.003902Z",
     "iopub.status.busy": "2024-11-16T05:20:41.003372Z",
     "iopub.status.idle": "2024-11-16T05:20:41.953958Z",
     "shell.execute_reply": "2024-11-16T05:20:41.952555Z"
    },
    "papermill": {
     "duration": 0.96802,
     "end_time": "2024-11-16T05:20:41.956466",
     "exception": false,
     "start_time": "2024-11-16T05:20:40.988446",
     "status": "completed"
    },
    "tags": []
   },
   "outputs": [
    {
     "name": "stdout",
     "output_type": "stream",
     "text": [
      "Baseline (verbose) output tokens: 214\n",
      "Tuned output tokens: 4\n"
     ]
    }
   ],
   "source": [
    "baseline_token_output = baseline_response.usage_metadata.candidates_token_count\n",
    "print('Baseline (verbose) output tokens:', baseline_token_output)\n",
    "\n",
    "tuned_model_output = your_model.generate_content(sample_row)\n",
    "tuned_tokens_output = tuned_model_output.usage_metadata.candidates_token_count\n",
    "print('Tuned output tokens:', tuned_tokens_output)"
   ]
  },
  {
   "cell_type": "markdown",
   "id": "94e071f2",
   "metadata": {
    "id": "6c1204a5d0ab",
    "papermill": {
     "duration": 0.012727,
     "end_time": "2024-11-16T05:20:41.982319",
     "exception": false,
     "start_time": "2024-11-16T05:20:41.969592",
     "status": "completed"
    },
    "tags": []
   },
   "source": [
    "## Next steps\n",
    "\n",
    "Now that you have tuned a classification model, try some other tasks, like tuning a model to respond with a specific tone or style using hand-written examples (or even generated examples!). Kaggle hosts [a number of datasets](https://www.kaggle.com/datasets) you can try out.\n",
    "\n",
    "Learn about [when supervised fine-tuning is most effective](https://cloud.google.com/blog/products/ai-machine-learning/supervised-fine-tuning-for-gemini-llm).\n",
    "\n",
    "And check out the [fine-tuning tutorial](https://ai.google.dev/gemini-api/docs/model-tuning/tutorial?hl=en&lang=python) for another example that shows a tuned model extending beyond the training data to new, unseen inputs."
   ]
  }
 ],
 "metadata": {
  "colab": {
   "name": "day-4-fine-tuning-a-custom-model.ipynb",
   "toc_visible": true
  },
  "kaggle": {
   "accelerator": "none",
   "dataSources": [],
   "dockerImageVersionId": 30786,
   "isGpuEnabled": false,
   "isInternetEnabled": true,
   "language": "python",
   "sourceType": "notebook"
  },
  "kernelspec": {
   "display_name": "Python 3",
   "language": "python",
   "name": "python3"
  },
  "language_info": {
   "codemirror_mode": {
    "name": "ipython",
    "version": 3
   },
   "file_extension": ".py",
   "mimetype": "text/x-python",
   "name": "python",
   "nbconvert_exporter": "python",
   "pygments_lexer": "ipython3",
   "version": "3.10.14"
  },
  "papermill": {
   "default_parameters": {},
   "duration": 554.9839,
   "end_time": "2024-11-16T05:20:42.918864",
   "environment_variables": {},
   "exception": null,
   "input_path": "__notebook__.ipynb",
   "output_path": "__notebook__.ipynb",
   "parameters": {},
   "start_time": "2024-11-16T05:11:27.934964",
   "version": "2.6.0"
  },
  "widgets": {
   "application/vnd.jupyter.widget-state+json": {
    "state": {
     "3cfa843c2af4418ca67c2381034c52c6": {
      "model_module": "@jupyter-widgets/base",
      "model_module_version": "1.2.0",
      "model_name": "LayoutModel",
      "state": {
       "_model_module": "@jupyter-widgets/base",
       "_model_module_version": "1.2.0",
       "_model_name": "LayoutModel",
       "_view_count": null,
       "_view_module": "@jupyter-widgets/base",
       "_view_module_version": "1.2.0",
       "_view_name": "LayoutView",
       "align_content": null,
       "align_items": null,
       "align_self": null,
       "border": null,
       "bottom": null,
       "display": null,
       "flex": null,
       "flex_flow": null,
       "grid_area": null,
       "grid_auto_columns": null,
       "grid_auto_flow": null,
       "grid_auto_rows": null,
       "grid_column": null,
       "grid_gap": null,
       "grid_row": null,
       "grid_template_areas": null,
       "grid_template_columns": null,
       "grid_template_rows": null,
       "height": null,
       "justify_content": null,
       "justify_items": null,
       "left": null,
       "margin": null,
       "max_height": null,
       "max_width": null,
       "min_height": null,
       "min_width": null,
       "object_fit": null,
       "object_position": null,
       "order": null,
       "overflow": null,
       "overflow_x": null,
       "overflow_y": null,
       "padding": null,
       "right": null,
       "top": null,
       "visibility": null,
       "width": null
      }
     },
     "596bf625174d41f3a18410e635750311": {
      "model_module": "@jupyter-widgets/output",
      "model_module_version": "1.0.0",
      "model_name": "OutputModel",
      "state": {
       "_dom_classes": [],
       "_model_module": "@jupyter-widgets/output",
       "_model_module_version": "1.0.0",
       "_model_name": "OutputModel",
       "_view_count": null,
       "_view_module": "@jupyter-widgets/output",
       "_view_module_version": "1.0.0",
       "_view_name": "OutputView",
       "layout": "IPY_MODEL_3cfa843c2af4418ca67c2381034c52c6",
       "msg_id": "",
       "outputs": [
        {
         "data": {
          "text/html": "<pre style=\"white-space:pre;overflow-x:auto;line-height:normal;font-family:Menlo,'DejaVu Sans Mono',consolas,'Courier New',monospace\"><span style=\"color: #800080; text-decoration-color: #800080\"> 100%</span> <span style=\"color: #729c1f; text-decoration-color: #729c1f\">━━━━━━━━━━━━━━━━━━━━━━━━━━━━━━━━━━━━━━━━━━━━━━━━━━━━━━━━━━━━━━━━━━━━━━━</span> <span style=\"color: #008000; text-decoration-color: #008000\">16/16 </span> [ <span style=\"color: #808000; text-decoration-color: #808000\">0:00:08</span> &lt; <span style=\"color: #008080; text-decoration-color: #008080\">0:00:00</span> , <span style=\"color: #800000; text-decoration-color: #800000\">2 it/s</span> ]\n</pre>\n",
          "text/plain": "\u001b[35m 100%\u001b[0m \u001b[38;2;114;156;31m━━━━━━━━━━━━━━━━━━━━━━━━━━━━━━━━━━━━━━━━━━━━━━━━━━━━━━━━━━━━━━━━━━━━━━━\u001b[0m \u001b[32m16/16 \u001b[0m [ \u001b[33m0:00:08\u001b[0m < \u001b[36m0:00:00\u001b[0m , \u001b[31m2 it/s\u001b[0m ]\n"
         },
         "metadata": {},
         "output_type": "display_data"
        }
       ]
      }
     },
     "63e50f27b4e04b36a4ba2c88cf6077fd": {
      "model_module": "@jupyter-widgets/output",
      "model_module_version": "1.0.0",
      "model_name": "OutputModel",
      "state": {
       "_dom_classes": [],
       "_model_module": "@jupyter-widgets/output",
       "_model_module_version": "1.0.0",
       "_model_name": "OutputModel",
       "_view_count": null,
       "_view_module": "@jupyter-widgets/output",
       "_view_module_version": "1.0.0",
       "_view_name": "OutputView",
       "layout": "IPY_MODEL_881495672ac7455d8af2750987fcdc75",
       "msg_id": "",
       "outputs": [
        {
         "data": {
          "text/html": "<pre style=\"white-space:pre;overflow-x:auto;line-height:normal;font-family:Menlo,'DejaVu Sans Mono',consolas,'Courier New',monospace\"><span style=\"color: #800080; text-decoration-color: #800080\"> 100%</span> <span style=\"color: #729c1f; text-decoration-color: #729c1f\">━━━━━━━━━━━━━━━━━━━━━━━━━━━━━━━━━━━━━━━━━━━━━━━━━━━━━━━━━━━━━━━━━━━━━━━</span> <span style=\"color: #008000; text-decoration-color: #008000\">32/32 </span> [ <span style=\"color: #808000; text-decoration-color: #808000\">0:01:33</span> &lt; <span style=\"color: #008080; text-decoration-color: #008080\">0:00:00</span> , <span style=\"color: #800000; text-decoration-color: #800000\">1 it/s</span> ]\n</pre>\n",
          "text/plain": "\u001b[35m 100%\u001b[0m \u001b[38;2;114;156;31m━━━━━━━━━━━━━━━━━━━━━━━━━━━━━━━━━━━━━━━━━━━━━━━━━━━━━━━━━━━━━━━━━━━━━━━\u001b[0m \u001b[32m32/32 \u001b[0m [ \u001b[33m0:01:33\u001b[0m < \u001b[36m0:00:00\u001b[0m , \u001b[31m1 it/s\u001b[0m ]\n"
         },
         "metadata": {},
         "output_type": "display_data"
        }
       ]
      }
     },
     "881495672ac7455d8af2750987fcdc75": {
      "model_module": "@jupyter-widgets/base",
      "model_module_version": "1.2.0",
      "model_name": "LayoutModel",
      "state": {
       "_model_module": "@jupyter-widgets/base",
       "_model_module_version": "1.2.0",
       "_model_name": "LayoutModel",
       "_view_count": null,
       "_view_module": "@jupyter-widgets/base",
       "_view_module_version": "1.2.0",
       "_view_name": "LayoutView",
       "align_content": null,
       "align_items": null,
       "align_self": null,
       "border": null,
       "bottom": null,
       "display": null,
       "flex": null,
       "flex_flow": null,
       "grid_area": null,
       "grid_auto_columns": null,
       "grid_auto_flow": null,
       "grid_auto_rows": null,
       "grid_column": null,
       "grid_gap": null,
       "grid_row": null,
       "grid_template_areas": null,
       "grid_template_columns": null,
       "grid_template_rows": null,
       "height": null,
       "justify_content": null,
       "justify_items": null,
       "left": null,
       "margin": null,
       "max_height": null,
       "max_width": null,
       "min_height": null,
       "min_width": null,
       "object_fit": null,
       "object_position": null,
       "order": null,
       "overflow": null,
       "overflow_x": null,
       "overflow_y": null,
       "padding": null,
       "right": null,
       "top": null,
       "visibility": null,
       "width": null
      }
     }
    },
    "version_major": 2,
    "version_minor": 0
   }
  }
 },
 "nbformat": 4,
 "nbformat_minor": 5
}
